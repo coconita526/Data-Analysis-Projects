{
 "cells": [
  {
   "cell_type": "markdown",
   "id": "29312952-4a1a-466a-baaf-614e0b85be5f",
   "metadata": {},
   "source": [
    "# Hotel Room Booking Data Preprocessing"
   ]
  },
  {
   "cell_type": "markdown",
   "id": "7649b47d-6955-4c6e-8509-a6bd67e974c5",
   "metadata": {},
   "source": [
    "### Notebook Introduction: \n",
    "This Python Notebook is a part of Hotel Room Booking Data Analysis Project, in which the original dataset will be cleaned and transformed into 2 tables for further analysis and visualizations. Also, a quick and simple EDA will be done to have a grasp about our data. \n",
    "\n",
    "The features of 2 new tables will be carefully selected and preprocessed to answer a series of busienss questions:\n",
    "\n",
    "1. What are the total reservations and total revenue from room bookings?\n",
    "2. How was the ADR changed through out the years?\n",
    "3. Do City Hotel and Resort Hotel perform differently? If so, how?\n",
    "3. What are the types of our major customers and through what channels do they book with us?"
   ]
  },
  {
   "cell_type": "markdown",
   "id": "28012d31-b3b2-4fe8-a08c-73bb44b397a0",
   "metadata": {
    "tags": []
   },
   "source": [
    "### Workflow\n",
    "**1. Load original Data**  \n",
    "**2. Data Cleaning & Manipulation:**\n",
    "   - Handle duplicates\n",
    "   - Handle missing values \n",
    "   - Restructure the data\n",
    "   \n",
    "**3. EDA:**\n",
    "   - Explore the major columns \n",
    "   - Add new columns of KPIs and important measures\n",
    "   - Export tables"
   ]
  },
  {
   "cell_type": "markdown",
   "id": "dcff9359-6239-41b9-a876-1d3c10ede0ea",
   "metadata": {
    "tags": []
   },
   "source": [
    "#### Part 1 Load Original Data"
   ]
  },
  {
   "cell_type": "code",
   "execution_count": 1,
   "id": "29e3cb6b-e1d5-402a-a29b-47c996c5558f",
   "metadata": {
    "tags": []
   },
   "outputs": [],
   "source": [
    "#import libraries\n",
    "import pandas as pd"
   ]
  },
  {
   "cell_type": "code",
   "execution_count": 2,
   "id": "b7399328-bbfc-43d4-99a8-cd0564af93c2",
   "metadata": {
    "tags": []
   },
   "outputs": [
    {
     "data": {
      "text/html": [
       "<div>\n",
       "<style scoped>\n",
       "    .dataframe tbody tr th:only-of-type {\n",
       "        vertical-align: middle;\n",
       "    }\n",
       "\n",
       "    .dataframe tbody tr th {\n",
       "        vertical-align: top;\n",
       "    }\n",
       "\n",
       "    .dataframe thead th {\n",
       "        text-align: right;\n",
       "    }\n",
       "</style>\n",
       "<table border=\"1\" class=\"dataframe\">\n",
       "  <thead>\n",
       "    <tr style=\"text-align: right;\">\n",
       "      <th></th>\n",
       "      <th>hotel</th>\n",
       "      <th>is_canceled</th>\n",
       "      <th>lead_time</th>\n",
       "      <th>arrival_date_year</th>\n",
       "      <th>arrival_date_month</th>\n",
       "      <th>arrival_date_week_number</th>\n",
       "      <th>arrival_date_day_of_month</th>\n",
       "      <th>stays_in_weekend_nights</th>\n",
       "      <th>stays_in_week_nights</th>\n",
       "      <th>adults</th>\n",
       "      <th>...</th>\n",
       "      <th>deposit_type</th>\n",
       "      <th>agent</th>\n",
       "      <th>company</th>\n",
       "      <th>days_in_waiting_list</th>\n",
       "      <th>customer_type</th>\n",
       "      <th>adr</th>\n",
       "      <th>required_car_parking_spaces</th>\n",
       "      <th>total_of_special_requests</th>\n",
       "      <th>reservation_status</th>\n",
       "      <th>reservation_status_date</th>\n",
       "    </tr>\n",
       "  </thead>\n",
       "  <tbody>\n",
       "    <tr>\n",
       "      <th>0</th>\n",
       "      <td>Resort Hotel</td>\n",
       "      <td>0</td>\n",
       "      <td>342</td>\n",
       "      <td>2015</td>\n",
       "      <td>July</td>\n",
       "      <td>27</td>\n",
       "      <td>1</td>\n",
       "      <td>0</td>\n",
       "      <td>0</td>\n",
       "      <td>2</td>\n",
       "      <td>...</td>\n",
       "      <td>No Deposit</td>\n",
       "      <td>NaN</td>\n",
       "      <td>NaN</td>\n",
       "      <td>0</td>\n",
       "      <td>Transient</td>\n",
       "      <td>0.0</td>\n",
       "      <td>0</td>\n",
       "      <td>0</td>\n",
       "      <td>Check-Out</td>\n",
       "      <td>2015-07-01</td>\n",
       "    </tr>\n",
       "    <tr>\n",
       "      <th>1</th>\n",
       "      <td>Resort Hotel</td>\n",
       "      <td>0</td>\n",
       "      <td>737</td>\n",
       "      <td>2015</td>\n",
       "      <td>July</td>\n",
       "      <td>27</td>\n",
       "      <td>1</td>\n",
       "      <td>0</td>\n",
       "      <td>0</td>\n",
       "      <td>2</td>\n",
       "      <td>...</td>\n",
       "      <td>No Deposit</td>\n",
       "      <td>NaN</td>\n",
       "      <td>NaN</td>\n",
       "      <td>0</td>\n",
       "      <td>Transient</td>\n",
       "      <td>0.0</td>\n",
       "      <td>0</td>\n",
       "      <td>0</td>\n",
       "      <td>Check-Out</td>\n",
       "      <td>2015-07-01</td>\n",
       "    </tr>\n",
       "    <tr>\n",
       "      <th>2</th>\n",
       "      <td>Resort Hotel</td>\n",
       "      <td>0</td>\n",
       "      <td>7</td>\n",
       "      <td>2015</td>\n",
       "      <td>July</td>\n",
       "      <td>27</td>\n",
       "      <td>1</td>\n",
       "      <td>0</td>\n",
       "      <td>1</td>\n",
       "      <td>1</td>\n",
       "      <td>...</td>\n",
       "      <td>No Deposit</td>\n",
       "      <td>NaN</td>\n",
       "      <td>NaN</td>\n",
       "      <td>0</td>\n",
       "      <td>Transient</td>\n",
       "      <td>75.0</td>\n",
       "      <td>0</td>\n",
       "      <td>0</td>\n",
       "      <td>Check-Out</td>\n",
       "      <td>2015-07-02</td>\n",
       "    </tr>\n",
       "    <tr>\n",
       "      <th>3</th>\n",
       "      <td>Resort Hotel</td>\n",
       "      <td>0</td>\n",
       "      <td>13</td>\n",
       "      <td>2015</td>\n",
       "      <td>July</td>\n",
       "      <td>27</td>\n",
       "      <td>1</td>\n",
       "      <td>0</td>\n",
       "      <td>1</td>\n",
       "      <td>1</td>\n",
       "      <td>...</td>\n",
       "      <td>No Deposit</td>\n",
       "      <td>304.0</td>\n",
       "      <td>NaN</td>\n",
       "      <td>0</td>\n",
       "      <td>Transient</td>\n",
       "      <td>75.0</td>\n",
       "      <td>0</td>\n",
       "      <td>0</td>\n",
       "      <td>Check-Out</td>\n",
       "      <td>2015-07-02</td>\n",
       "    </tr>\n",
       "    <tr>\n",
       "      <th>4</th>\n",
       "      <td>Resort Hotel</td>\n",
       "      <td>0</td>\n",
       "      <td>14</td>\n",
       "      <td>2015</td>\n",
       "      <td>July</td>\n",
       "      <td>27</td>\n",
       "      <td>1</td>\n",
       "      <td>0</td>\n",
       "      <td>2</td>\n",
       "      <td>2</td>\n",
       "      <td>...</td>\n",
       "      <td>No Deposit</td>\n",
       "      <td>240.0</td>\n",
       "      <td>NaN</td>\n",
       "      <td>0</td>\n",
       "      <td>Transient</td>\n",
       "      <td>98.0</td>\n",
       "      <td>0</td>\n",
       "      <td>1</td>\n",
       "      <td>Check-Out</td>\n",
       "      <td>2015-07-03</td>\n",
       "    </tr>\n",
       "  </tbody>\n",
       "</table>\n",
       "<p>5 rows × 32 columns</p>\n",
       "</div>"
      ],
      "text/plain": [
       "          hotel  is_canceled  lead_time  arrival_date_year arrival_date_month  \\\n",
       "0  Resort Hotel            0        342               2015               July   \n",
       "1  Resort Hotel            0        737               2015               July   \n",
       "2  Resort Hotel            0          7               2015               July   \n",
       "3  Resort Hotel            0         13               2015               July   \n",
       "4  Resort Hotel            0         14               2015               July   \n",
       "\n",
       "   arrival_date_week_number  arrival_date_day_of_month  \\\n",
       "0                        27                          1   \n",
       "1                        27                          1   \n",
       "2                        27                          1   \n",
       "3                        27                          1   \n",
       "4                        27                          1   \n",
       "\n",
       "   stays_in_weekend_nights  stays_in_week_nights  adults  ...  deposit_type  \\\n",
       "0                        0                     0       2  ...    No Deposit   \n",
       "1                        0                     0       2  ...    No Deposit   \n",
       "2                        0                     1       1  ...    No Deposit   \n",
       "3                        0                     1       1  ...    No Deposit   \n",
       "4                        0                     2       2  ...    No Deposit   \n",
       "\n",
       "   agent company days_in_waiting_list customer_type   adr  \\\n",
       "0    NaN     NaN                    0     Transient   0.0   \n",
       "1    NaN     NaN                    0     Transient   0.0   \n",
       "2    NaN     NaN                    0     Transient  75.0   \n",
       "3  304.0     NaN                    0     Transient  75.0   \n",
       "4  240.0     NaN                    0     Transient  98.0   \n",
       "\n",
       "   required_car_parking_spaces  total_of_special_requests  reservation_status  \\\n",
       "0                            0                          0           Check-Out   \n",
       "1                            0                          0           Check-Out   \n",
       "2                            0                          0           Check-Out   \n",
       "3                            0                          0           Check-Out   \n",
       "4                            0                          1           Check-Out   \n",
       "\n",
       "  reservation_status_date  \n",
       "0              2015-07-01  \n",
       "1              2015-07-01  \n",
       "2              2015-07-02  \n",
       "3              2015-07-02  \n",
       "4              2015-07-03  \n",
       "\n",
       "[5 rows x 32 columns]"
      ]
     },
     "execution_count": 2,
     "metadata": {},
     "output_type": "execute_result"
    }
   ],
   "source": [
    "#load the original data\n",
    "df = pd.read_csv('/Users/kouyuyang/Documents/Projects/Kaggle Projects/Hotel Demand Prediction/hotel_bookings.csv')\n",
    "#sanity check\n",
    "df.head()"
   ]
  },
  {
   "cell_type": "code",
   "execution_count": 3,
   "id": "c13e7b25-3f46-453d-9bea-9eb5e89810b3",
   "metadata": {
    "tags": []
   },
   "outputs": [
    {
     "data": {
      "text/plain": [
       "(119390, 32)"
      ]
     },
     "execution_count": 3,
     "metadata": {},
     "output_type": "execute_result"
    }
   ],
   "source": [
    "df.shape"
   ]
  },
  {
   "cell_type": "code",
   "execution_count": 4,
   "id": "0c8444f1-8fd4-4ac7-b1c5-14a035ba1606",
   "metadata": {
    "tags": []
   },
   "outputs": [
    {
     "name": "stdout",
     "output_type": "stream",
     "text": [
      "<class 'pandas.core.frame.DataFrame'>\n",
      "RangeIndex: 119390 entries, 0 to 119389\n",
      "Data columns (total 32 columns):\n",
      " #   Column                          Non-Null Count   Dtype  \n",
      "---  ------                          --------------   -----  \n",
      " 0   hotel                           119390 non-null  object \n",
      " 1   is_canceled                     119390 non-null  int64  \n",
      " 2   lead_time                       119390 non-null  int64  \n",
      " 3   arrival_date_year               119390 non-null  int64  \n",
      " 4   arrival_date_month              119390 non-null  object \n",
      " 5   arrival_date_week_number        119390 non-null  int64  \n",
      " 6   arrival_date_day_of_month       119390 non-null  int64  \n",
      " 7   stays_in_weekend_nights         119390 non-null  int64  \n",
      " 8   stays_in_week_nights            119390 non-null  int64  \n",
      " 9   adults                          119390 non-null  int64  \n",
      " 10  children                        119386 non-null  float64\n",
      " 11  babies                          119390 non-null  int64  \n",
      " 12  meal                            119390 non-null  object \n",
      " 13  country                         118902 non-null  object \n",
      " 14  market_segment                  119390 non-null  object \n",
      " 15  distribution_channel            119390 non-null  object \n",
      " 16  is_repeated_guest               119390 non-null  int64  \n",
      " 17  previous_cancellations          119390 non-null  int64  \n",
      " 18  previous_bookings_not_canceled  119390 non-null  int64  \n",
      " 19  reserved_room_type              119390 non-null  object \n",
      " 20  assigned_room_type              119390 non-null  object \n",
      " 21  booking_changes                 119390 non-null  int64  \n",
      " 22  deposit_type                    119390 non-null  object \n",
      " 23  agent                           103050 non-null  float64\n",
      " 24  company                         6797 non-null    float64\n",
      " 25  days_in_waiting_list            119390 non-null  int64  \n",
      " 26  customer_type                   119390 non-null  object \n",
      " 27  adr                             119390 non-null  float64\n",
      " 28  required_car_parking_spaces     119390 non-null  int64  \n",
      " 29  total_of_special_requests       119390 non-null  int64  \n",
      " 30  reservation_status              119390 non-null  object \n",
      " 31  reservation_status_date         119390 non-null  object \n",
      "dtypes: float64(4), int64(16), object(12)\n",
      "memory usage: 29.1+ MB\n"
     ]
    }
   ],
   "source": [
    "#check the dataframe information\n",
    "df.info()"
   ]
  },
  {
   "cell_type": "markdown",
   "id": "d77b616a-c51b-418a-bf04-496b318f17d5",
   "metadata": {},
   "source": [
    "**Comment:** We can see that there are 119390 rows and 32 columns. Each record is a hotel reservation record, including plenty of important infomration about reservation status, dates, customer information, stay-in nights, reservation channels and so on. \n",
    "\n",
    "Now let's check if there are duplicated rows and missing values. "
   ]
  },
  {
   "cell_type": "markdown",
   "id": "3e44ea7b-6d13-413e-9000-88a6bc6bd802",
   "metadata": {},
   "source": [
    "#### Part 2: Data Cleaning"
   ]
  },
  {
   "cell_type": "markdown",
   "id": "f100cb54-7c6c-413b-8cdf-76f218884974",
   "metadata": {},
   "source": [
    "##### 2.1 Handle Duplicates"
   ]
  },
  {
   "cell_type": "code",
   "execution_count": 5,
   "id": "4096183a-6d8b-4351-9a24-8dda35f1ee55",
   "metadata": {
    "tags": []
   },
   "outputs": [
    {
     "data": {
      "text/plain": [
       "31994"
      ]
     },
     "execution_count": 5,
     "metadata": {},
     "output_type": "execute_result"
    }
   ],
   "source": [
    "#check if there are duplicated rows\n",
    "df.duplicated().sum()"
   ]
  },
  {
   "cell_type": "markdown",
   "id": "27d83f86-12e8-470a-aae5-60a30ad8cb42",
   "metadata": {},
   "source": [
    "**Comment:** Unfortuanately, there are 31994 duplicated rows, but how should we deal with them? Are they really duplicated records or there might be other explainations. For example, is it possible a group of people booked more than 1 room so two reservation record showed identical same. We can take a futher look at how `adult` column looks like in those duplicated rows. "
   ]
  },
  {
   "cell_type": "code",
   "execution_count": 6,
   "id": "39b58e2a-bef5-4558-ad55-7a1df0d63bec",
   "metadata": {
    "tags": []
   },
   "outputs": [
    {
     "data": {
      "text/plain": [
       "2    25183\n",
       "1     6524\n",
       "3      267\n",
       "0       18\n",
       "4        2\n",
       "Name: adults, dtype: int64"
      ]
     },
     "execution_count": 6,
     "metadata": {},
     "output_type": "execute_result"
    }
   ],
   "source": [
    "df[df.duplicated()]['adults'].value_counts()"
   ]
  },
  {
   "cell_type": "markdown",
   "id": "95b92efb-efe3-4ee4-b18b-05cf826304c2",
   "metadata": {},
   "source": [
    "**Comment:** Most guests consist of more than one adult, so there are possibilities that they book more than one room. Even for records showing 1 adult or 0 adults, there might be a need to book extra rooms for their children or babies. Therefore, at this point, I would not drop the duplicated rows because, first, we need to base our assumption on the integrity of the data, and second, there isn't enough evidence to ensure that these duplicated rows are indeed duplicated records. \n",
    "Now, let's check the missing values. "
   ]
  },
  {
   "cell_type": "markdown",
   "id": "35b8be88-d89b-4974-813d-3f62fd5bb28c",
   "metadata": {},
   "source": [
    "##### 2.2 Handle Missing Values"
   ]
  },
  {
   "cell_type": "code",
   "execution_count": 7,
   "id": "6d28b017-4e37-4fac-bd02-c611a9ae5e03",
   "metadata": {
    "tags": []
   },
   "outputs": [
    {
     "data": {
      "text/plain": [
       "hotel                                  0\n",
       "is_canceled                            0\n",
       "lead_time                              0\n",
       "arrival_date_year                      0\n",
       "arrival_date_month                     0\n",
       "arrival_date_week_number               0\n",
       "arrival_date_day_of_month              0\n",
       "stays_in_weekend_nights                0\n",
       "stays_in_week_nights                   0\n",
       "adults                                 0\n",
       "children                               4\n",
       "babies                                 0\n",
       "meal                                   0\n",
       "country                              488\n",
       "market_segment                         0\n",
       "distribution_channel                   0\n",
       "is_repeated_guest                      0\n",
       "previous_cancellations                 0\n",
       "previous_bookings_not_canceled         0\n",
       "reserved_room_type                     0\n",
       "assigned_room_type                     0\n",
       "booking_changes                        0\n",
       "deposit_type                           0\n",
       "agent                              16340\n",
       "company                           112593\n",
       "days_in_waiting_list                   0\n",
       "customer_type                          0\n",
       "adr                                    0\n",
       "required_car_parking_spaces            0\n",
       "total_of_special_requests              0\n",
       "reservation_status                     0\n",
       "reservation_status_date                0\n",
       "dtype: int64"
      ]
     },
     "execution_count": 7,
     "metadata": {},
     "output_type": "execute_result"
    }
   ],
   "source": [
    "df.isna().sum()"
   ]
  },
  {
   "cell_type": "markdown",
   "id": "56fa17f5-0266-4fc5-9444-73726994c97d",
   "metadata": {},
   "source": [
    "Obviously, the columns of `agent`, `company`,`children`,and `country` have missing values. Let's look at it each by each. "
   ]
  },
  {
   "cell_type": "markdown",
   "id": "e56d1e05-f834-4f6b-a1ff-7f8e85b15dd1",
   "metadata": {},
   "source": [
    "`agent`"
   ]
  },
  {
   "cell_type": "code",
   "execution_count": 8,
   "id": "eef4ab05-df40-4fda-a147-47fb412abb10",
   "metadata": {
    "tags": []
   },
   "outputs": [
    {
     "data": {
      "text/plain": [
       "9.0      31961\n",
       "240.0    13922\n",
       "1.0       7191\n",
       "14.0      3640\n",
       "7.0       3539\n",
       "         ...  \n",
       "289.0        1\n",
       "432.0        1\n",
       "265.0        1\n",
       "93.0         1\n",
       "304.0        1\n",
       "Name: agent, Length: 333, dtype: int64"
      ]
     },
     "execution_count": 8,
     "metadata": {},
     "output_type": "execute_result"
    }
   ],
   "source": [
    "df['agent'].value_counts()"
   ]
  },
  {
   "cell_type": "markdown",
   "id": "ab96fb91-deff-468d-8449-2a32b18bc0ef",
   "metadata": {},
   "source": [
    "**Comment:** Firstly, without a detailed explanation, we have no idea what the column 'agent' means exactly here. Secondly, for analyzing booking sales and customer segments, we don't quite need the 'agent' column, so we can ignore the missing values and drop the 'agent' column later."
   ]
  },
  {
   "cell_type": "markdown",
   "id": "bb50884a-26f2-4e06-9400-223e01270989",
   "metadata": {
    "tags": []
   },
   "source": [
    "`company`"
   ]
  },
  {
   "cell_type": "code",
   "execution_count": 9,
   "id": "88f4b211-b1f7-4619-b005-ae4df1dda85c",
   "metadata": {
    "tags": []
   },
   "outputs": [
    {
     "data": {
      "text/plain": [
       "40.0     927\n",
       "223.0    784\n",
       "67.0     267\n",
       "45.0     250\n",
       "153.0    215\n",
       "        ... \n",
       "104.0      1\n",
       "531.0      1\n",
       "160.0      1\n",
       "413.0      1\n",
       "386.0      1\n",
       "Name: company, Length: 352, dtype: int64"
      ]
     },
     "execution_count": 9,
     "metadata": {},
     "output_type": "execute_result"
    }
   ],
   "source": [
    "df['company'].value_counts()"
   ]
  },
  {
   "cell_type": "markdown",
   "id": "7ec35094-1c85-47e0-b2c1-0474af2ded80",
   "metadata": {},
   "source": [
    "**Comment**: Similarly to the column `agent`, we don't have enough information about the meaning of these numbers, so we will drop this column later as well."
   ]
  },
  {
   "cell_type": "markdown",
   "id": "31759613-6726-400f-b7ef-23df7f3ce8ab",
   "metadata": {},
   "source": [
    "`children`"
   ]
  },
  {
   "cell_type": "code",
   "execution_count": 10,
   "id": "535f38ef-7dde-472c-bde6-2f7823111f5f",
   "metadata": {
    "tags": []
   },
   "outputs": [
    {
     "name": "stdout",
     "output_type": "stream",
     "text": [
      "[ 0.  1.  2. 10.  3. nan]\n"
     ]
    }
   ],
   "source": [
    "print(df['children'].unique())"
   ]
  },
  {
   "cell_type": "code",
   "execution_count": 11,
   "id": "50c30926-37e5-430b-9528-e9c0408052dd",
   "metadata": {
    "tags": []
   },
   "outputs": [
    {
     "name": "stdout",
     "output_type": "stream",
     "text": [
      "The percentage of missing values in children column is 0.003350364352123293%\n"
     ]
    }
   ],
   "source": [
    "print(f\"The percentage of missing values in children column is {df['children'].isna().sum()/len(df)*100}%\")"
   ]
  },
  {
   "cell_type": "markdown",
   "id": "71450e50-c981-4965-8c19-fb33f9260221",
   "metadata": {},
   "source": [
    "The extremely small percentage is nothing to worry. Moreover, it seems reasonable to assume that the absence of a recorded value implies the absence of accompanying children. Therefore, replacing these missing values (NaN) with 0 aligns with the assumption that no recorded value indicates zero children. "
   ]
  },
  {
   "cell_type": "code",
   "execution_count": 12,
   "id": "fd953063-b3b5-48c8-aa80-184fb522ce3e",
   "metadata": {
    "tags": []
   },
   "outputs": [],
   "source": [
    "#replace the missing value with '0'\n",
    "df['children'] = df['children'].fillna(0)"
   ]
  },
  {
   "cell_type": "code",
   "execution_count": 13,
   "id": "3d309d1e-2a44-4adc-bbc4-e62d23a62cd5",
   "metadata": {
    "tags": []
   },
   "outputs": [
    {
     "data": {
      "text/plain": [
       "hotel                                  0\n",
       "is_canceled                            0\n",
       "lead_time                              0\n",
       "arrival_date_year                      0\n",
       "arrival_date_month                     0\n",
       "arrival_date_week_number               0\n",
       "arrival_date_day_of_month              0\n",
       "stays_in_weekend_nights                0\n",
       "stays_in_week_nights                   0\n",
       "adults                                 0\n",
       "children                               0\n",
       "babies                                 0\n",
       "meal                                   0\n",
       "country                              488\n",
       "market_segment                         0\n",
       "distribution_channel                   0\n",
       "is_repeated_guest                      0\n",
       "previous_cancellations                 0\n",
       "previous_bookings_not_canceled         0\n",
       "reserved_room_type                     0\n",
       "assigned_room_type                     0\n",
       "booking_changes                        0\n",
       "deposit_type                           0\n",
       "agent                              16340\n",
       "company                           112593\n",
       "days_in_waiting_list                   0\n",
       "customer_type                          0\n",
       "adr                                    0\n",
       "required_car_parking_spaces            0\n",
       "total_of_special_requests              0\n",
       "reservation_status                     0\n",
       "reservation_status_date                0\n",
       "dtype: int64"
      ]
     },
     "execution_count": 13,
     "metadata": {},
     "output_type": "execute_result"
    }
   ],
   "source": [
    "#Sanity Check\n",
    "df.isna().sum()"
   ]
  },
  {
   "cell_type": "markdown",
   "id": "54a9a0f4-4862-41b5-b76b-6c1260f8143e",
   "metadata": {},
   "source": [
    "`country`"
   ]
  },
  {
   "cell_type": "code",
   "execution_count": 14,
   "id": "84e43bc6-61b9-4d5a-bdf9-50ebd9638545",
   "metadata": {
    "tags": []
   },
   "outputs": [
    {
     "data": {
      "text/plain": [
       "array(['PRT', 'GBR', 'USA', 'ESP', 'IRL', 'FRA', nan, 'ROU', 'NOR', 'OMN',\n",
       "       'ARG', 'POL', 'DEU', 'BEL', 'CHE', 'CN', 'GRC', 'ITA', 'NLD',\n",
       "       'DNK', 'RUS', 'SWE', 'AUS', 'EST', 'CZE', 'BRA', 'FIN', 'MOZ',\n",
       "       'BWA', 'LUX', 'SVN', 'ALB', 'IND', 'CHN', 'MEX', 'MAR', 'UKR',\n",
       "       'SMR', 'LVA', 'PRI', 'SRB', 'CHL', 'AUT', 'BLR', 'LTU', 'TUR',\n",
       "       'ZAF', 'AGO', 'ISR', 'CYM', 'ZMB', 'CPV', 'ZWE', 'DZA', 'KOR',\n",
       "       'CRI', 'HUN', 'ARE', 'TUN', 'JAM', 'HRV', 'HKG', 'IRN', 'GEO',\n",
       "       'AND', 'GIB', 'URY', 'JEY', 'CAF', 'CYP', 'COL', 'GGY', 'KWT',\n",
       "       'NGA', 'MDV', 'VEN', 'SVK', 'FJI', 'KAZ', 'PAK', 'IDN', 'LBN',\n",
       "       'PHL', 'SEN', 'SYC', 'AZE', 'BHR', 'NZL', 'THA', 'DOM', 'MKD',\n",
       "       'MYS', 'ARM', 'JPN', 'LKA', 'CUB', 'CMR', 'BIH', 'MUS', 'COM',\n",
       "       'SUR', 'UGA', 'BGR', 'CIV', 'JOR', 'SYR', 'SGP', 'BDI', 'SAU',\n",
       "       'VNM', 'PLW', 'QAT', 'EGY', 'PER', 'MLT', 'MWI', 'ECU', 'MDG',\n",
       "       'ISL', 'UZB', 'NPL', 'BHS', 'MAC', 'TGO', 'TWN', 'DJI', 'STP',\n",
       "       'KNA', 'ETH', 'IRQ', 'HND', 'RWA', 'KHM', 'MCO', 'BGD', 'IMN',\n",
       "       'TJK', 'NIC', 'BEN', 'VGB', 'TZA', 'GAB', 'GHA', 'TMP', 'GLP',\n",
       "       'KEN', 'LIE', 'GNB', 'MNE', 'UMI', 'MYT', 'FRO', 'MMR', 'PAN',\n",
       "       'BFA', 'LBY', 'MLI', 'NAM', 'BOL', 'PRY', 'BRB', 'ABW', 'AIA',\n",
       "       'SLV', 'DMA', 'PYF', 'GUY', 'LCA', 'ATA', 'GTM', 'ASM', 'MRT',\n",
       "       'NCL', 'KIR', 'SDN', 'ATF', 'SLE', 'LAO'], dtype=object)"
      ]
     },
     "execution_count": 14,
     "metadata": {},
     "output_type": "execute_result"
    }
   ],
   "source": [
    "df['country'].unique()"
   ]
  },
  {
   "cell_type": "code",
   "execution_count": 15,
   "id": "86bf1519-f074-498c-b773-a608c4d7c964",
   "metadata": {
    "tags": []
   },
   "outputs": [
    {
     "name": "stdout",
     "output_type": "stream",
     "text": [
      "The percentage of missing values in children column is 0.40874445095904177%\n"
     ]
    }
   ],
   "source": [
    "print(f\"The percentage of missing values in country column is {df['country'].isna().sum()/len(df)*100}%\")"
   ]
  },
  {
   "cell_type": "markdown",
   "id": "ba0f92fc-a8af-4216-a0d0-c2581d60049a",
   "metadata": {},
   "source": [
    "**Comment:** The missing data in the 'country' column is minimal, accounting for just 0.4%, thus not raising significant concerns. Furthermore, we can replace the 'nan' values with 'Unknown' to signify that the nationality of the customers is unidentified."
   ]
  },
  {
   "cell_type": "code",
   "execution_count": 17,
   "id": "f396cbb1-79f6-41a7-af92-e3d31403a41c",
   "metadata": {
    "tags": []
   },
   "outputs": [
    {
     "data": {
      "text/plain": [
       "hotel                                  0\n",
       "is_canceled                            0\n",
       "lead_time                              0\n",
       "arrival_date_year                      0\n",
       "arrival_date_month                     0\n",
       "arrival_date_week_number               0\n",
       "arrival_date_day_of_month              0\n",
       "stays_in_weekend_nights                0\n",
       "stays_in_week_nights                   0\n",
       "adults                                 0\n",
       "children                               0\n",
       "babies                                 0\n",
       "meal                                   0\n",
       "country                                0\n",
       "market_segment                         0\n",
       "distribution_channel                   0\n",
       "is_repeated_guest                      0\n",
       "previous_cancellations                 0\n",
       "previous_bookings_not_canceled         0\n",
       "reserved_room_type                     0\n",
       "assigned_room_type                     0\n",
       "booking_changes                        0\n",
       "deposit_type                           0\n",
       "agent                              16340\n",
       "company                           112593\n",
       "days_in_waiting_list                   0\n",
       "customer_type                          0\n",
       "adr                                    0\n",
       "required_car_parking_spaces            0\n",
       "total_of_special_requests              0\n",
       "reservation_status                     0\n",
       "reservation_status_date                0\n",
       "dtype: int64"
      ]
     },
     "execution_count": 17,
     "metadata": {},
     "output_type": "execute_result"
    }
   ],
   "source": [
    "#replace the missing value with 'Unkown'\n",
    "df['country'] = df['country'].fillna('Unknown')\n",
    "\n",
    "#sanity check\n",
    "df.isna().sum()"
   ]
  },
  {
   "cell_type": "markdown",
   "id": "451fcc92-7693-44c6-b967-babe441114f6",
   "metadata": {},
   "source": [
    "##### 2.3 Split original table into 2 tables "
   ]
  },
  {
   "cell_type": "markdown",
   "id": "2f9dedb9-b62b-4dc2-bcbf-dfc33f3edbf1",
   "metadata": {},
   "source": [
    "Now, let's decide how to divide the orginal table into more dimensions. Based on the business questions, we mainly need information about the room bookings and customer segements. Therefore, after careful selection, the original table will be restructured into 2 table: room_sales, room_customers. In order to join 2 tables easily, a column of reservation_id will be added to serve as the primary key. \n"
   ]
  },
  {
   "cell_type": "code",
   "execution_count": 19,
   "id": "d25ba83f-8b36-49d3-b5d6-393b3aabc460",
   "metadata": {
    "tags": []
   },
   "outputs": [
    {
     "data": {
      "text/html": [
       "<div>\n",
       "<style scoped>\n",
       "    .dataframe tbody tr th:only-of-type {\n",
       "        vertical-align: middle;\n",
       "    }\n",
       "\n",
       "    .dataframe tbody tr th {\n",
       "        vertical-align: top;\n",
       "    }\n",
       "\n",
       "    .dataframe thead th {\n",
       "        text-align: right;\n",
       "    }\n",
       "</style>\n",
       "<table border=\"1\" class=\"dataframe\">\n",
       "  <thead>\n",
       "    <tr style=\"text-align: right;\">\n",
       "      <th></th>\n",
       "      <th>hotel</th>\n",
       "      <th>is_canceled</th>\n",
       "      <th>lead_time</th>\n",
       "      <th>arrival_date_year</th>\n",
       "      <th>arrival_date_month</th>\n",
       "      <th>arrival_date_week_number</th>\n",
       "      <th>arrival_date_day_of_month</th>\n",
       "      <th>stays_in_weekend_nights</th>\n",
       "      <th>stays_in_week_nights</th>\n",
       "      <th>adults</th>\n",
       "      <th>...</th>\n",
       "      <th>agent</th>\n",
       "      <th>company</th>\n",
       "      <th>days_in_waiting_list</th>\n",
       "      <th>customer_type</th>\n",
       "      <th>adr</th>\n",
       "      <th>required_car_parking_spaces</th>\n",
       "      <th>total_of_special_requests</th>\n",
       "      <th>reservation_status</th>\n",
       "      <th>reservation_status_date</th>\n",
       "      <th>reservation_id</th>\n",
       "    </tr>\n",
       "  </thead>\n",
       "  <tbody>\n",
       "    <tr>\n",
       "      <th>0</th>\n",
       "      <td>Resort Hotel</td>\n",
       "      <td>0</td>\n",
       "      <td>342</td>\n",
       "      <td>2015</td>\n",
       "      <td>July</td>\n",
       "      <td>27</td>\n",
       "      <td>1</td>\n",
       "      <td>0</td>\n",
       "      <td>0</td>\n",
       "      <td>2</td>\n",
       "      <td>...</td>\n",
       "      <td>NaN</td>\n",
       "      <td>NaN</td>\n",
       "      <td>0</td>\n",
       "      <td>Transient</td>\n",
       "      <td>0.0</td>\n",
       "      <td>0</td>\n",
       "      <td>0</td>\n",
       "      <td>Check-Out</td>\n",
       "      <td>2015-07-01</td>\n",
       "      <td>1</td>\n",
       "    </tr>\n",
       "    <tr>\n",
       "      <th>1</th>\n",
       "      <td>Resort Hotel</td>\n",
       "      <td>0</td>\n",
       "      <td>737</td>\n",
       "      <td>2015</td>\n",
       "      <td>July</td>\n",
       "      <td>27</td>\n",
       "      <td>1</td>\n",
       "      <td>0</td>\n",
       "      <td>0</td>\n",
       "      <td>2</td>\n",
       "      <td>...</td>\n",
       "      <td>NaN</td>\n",
       "      <td>NaN</td>\n",
       "      <td>0</td>\n",
       "      <td>Transient</td>\n",
       "      <td>0.0</td>\n",
       "      <td>0</td>\n",
       "      <td>0</td>\n",
       "      <td>Check-Out</td>\n",
       "      <td>2015-07-01</td>\n",
       "      <td>2</td>\n",
       "    </tr>\n",
       "    <tr>\n",
       "      <th>2</th>\n",
       "      <td>Resort Hotel</td>\n",
       "      <td>0</td>\n",
       "      <td>7</td>\n",
       "      <td>2015</td>\n",
       "      <td>July</td>\n",
       "      <td>27</td>\n",
       "      <td>1</td>\n",
       "      <td>0</td>\n",
       "      <td>1</td>\n",
       "      <td>1</td>\n",
       "      <td>...</td>\n",
       "      <td>NaN</td>\n",
       "      <td>NaN</td>\n",
       "      <td>0</td>\n",
       "      <td>Transient</td>\n",
       "      <td>75.0</td>\n",
       "      <td>0</td>\n",
       "      <td>0</td>\n",
       "      <td>Check-Out</td>\n",
       "      <td>2015-07-02</td>\n",
       "      <td>3</td>\n",
       "    </tr>\n",
       "    <tr>\n",
       "      <th>3</th>\n",
       "      <td>Resort Hotel</td>\n",
       "      <td>0</td>\n",
       "      <td>13</td>\n",
       "      <td>2015</td>\n",
       "      <td>July</td>\n",
       "      <td>27</td>\n",
       "      <td>1</td>\n",
       "      <td>0</td>\n",
       "      <td>1</td>\n",
       "      <td>1</td>\n",
       "      <td>...</td>\n",
       "      <td>304.0</td>\n",
       "      <td>NaN</td>\n",
       "      <td>0</td>\n",
       "      <td>Transient</td>\n",
       "      <td>75.0</td>\n",
       "      <td>0</td>\n",
       "      <td>0</td>\n",
       "      <td>Check-Out</td>\n",
       "      <td>2015-07-02</td>\n",
       "      <td>4</td>\n",
       "    </tr>\n",
       "    <tr>\n",
       "      <th>4</th>\n",
       "      <td>Resort Hotel</td>\n",
       "      <td>0</td>\n",
       "      <td>14</td>\n",
       "      <td>2015</td>\n",
       "      <td>July</td>\n",
       "      <td>27</td>\n",
       "      <td>1</td>\n",
       "      <td>0</td>\n",
       "      <td>2</td>\n",
       "      <td>2</td>\n",
       "      <td>...</td>\n",
       "      <td>240.0</td>\n",
       "      <td>NaN</td>\n",
       "      <td>0</td>\n",
       "      <td>Transient</td>\n",
       "      <td>98.0</td>\n",
       "      <td>0</td>\n",
       "      <td>1</td>\n",
       "      <td>Check-Out</td>\n",
       "      <td>2015-07-03</td>\n",
       "      <td>5</td>\n",
       "    </tr>\n",
       "  </tbody>\n",
       "</table>\n",
       "<p>5 rows × 33 columns</p>\n",
       "</div>"
      ],
      "text/plain": [
       "          hotel  is_canceled  lead_time  arrival_date_year arrival_date_month  \\\n",
       "0  Resort Hotel            0        342               2015               July   \n",
       "1  Resort Hotel            0        737               2015               July   \n",
       "2  Resort Hotel            0          7               2015               July   \n",
       "3  Resort Hotel            0         13               2015               July   \n",
       "4  Resort Hotel            0         14               2015               July   \n",
       "\n",
       "   arrival_date_week_number  arrival_date_day_of_month  \\\n",
       "0                        27                          1   \n",
       "1                        27                          1   \n",
       "2                        27                          1   \n",
       "3                        27                          1   \n",
       "4                        27                          1   \n",
       "\n",
       "   stays_in_weekend_nights  stays_in_week_nights  adults  ...  agent  company  \\\n",
       "0                        0                     0       2  ...    NaN      NaN   \n",
       "1                        0                     0       2  ...    NaN      NaN   \n",
       "2                        0                     1       1  ...    NaN      NaN   \n",
       "3                        0                     1       1  ...  304.0      NaN   \n",
       "4                        0                     2       2  ...  240.0      NaN   \n",
       "\n",
       "  days_in_waiting_list customer_type   adr required_car_parking_spaces  \\\n",
       "0                    0     Transient   0.0                           0   \n",
       "1                    0     Transient   0.0                           0   \n",
       "2                    0     Transient  75.0                           0   \n",
       "3                    0     Transient  75.0                           0   \n",
       "4                    0     Transient  98.0                           0   \n",
       "\n",
       "   total_of_special_requests  reservation_status  reservation_status_date  \\\n",
       "0                          0           Check-Out               2015-07-01   \n",
       "1                          0           Check-Out               2015-07-01   \n",
       "2                          0           Check-Out               2015-07-02   \n",
       "3                          0           Check-Out               2015-07-02   \n",
       "4                          1           Check-Out               2015-07-03   \n",
       "\n",
       "  reservation_id  \n",
       "0              1  \n",
       "1              2  \n",
       "2              3  \n",
       "3              4  \n",
       "4              5  \n",
       "\n",
       "[5 rows x 33 columns]"
      ]
     },
     "execution_count": 19,
     "metadata": {},
     "output_type": "execute_result"
    }
   ],
   "source": [
    "## Assign unique reservation_id to each reservation \n",
    "df['reservation_id'] = range(1, len(df) + 1)\n",
    "\n",
    "## Sanity Check\n",
    "df.head()"
   ]
  },
  {
   "cell_type": "code",
   "execution_count": 20,
   "id": "ef135c1e-9726-49bc-913a-de95a111dedc",
   "metadata": {
    "tags": []
   },
   "outputs": [
    {
     "data": {
      "text/html": [
       "<div>\n",
       "<style scoped>\n",
       "    .dataframe tbody tr th:only-of-type {\n",
       "        vertical-align: middle;\n",
       "    }\n",
       "\n",
       "    .dataframe tbody tr th {\n",
       "        vertical-align: top;\n",
       "    }\n",
       "\n",
       "    .dataframe thead th {\n",
       "        text-align: right;\n",
       "    }\n",
       "</style>\n",
       "<table border=\"1\" class=\"dataframe\">\n",
       "  <thead>\n",
       "    <tr style=\"text-align: right;\">\n",
       "      <th></th>\n",
       "      <th>reservation_id</th>\n",
       "      <th>hotel</th>\n",
       "      <th>is_canceled</th>\n",
       "      <th>lead_time</th>\n",
       "      <th>arrival_date_year</th>\n",
       "      <th>arrival_date_month</th>\n",
       "      <th>arrival_date_week_number</th>\n",
       "      <th>arrival_date_day_of_month</th>\n",
       "      <th>stays_in_weekend_nights</th>\n",
       "      <th>stays_in_week_nights</th>\n",
       "      <th>adr</th>\n",
       "      <th>reservation_status</th>\n",
       "      <th>reservation_status_date</th>\n",
       "    </tr>\n",
       "  </thead>\n",
       "  <tbody>\n",
       "    <tr>\n",
       "      <th>0</th>\n",
       "      <td>1</td>\n",
       "      <td>Resort Hotel</td>\n",
       "      <td>0</td>\n",
       "      <td>342</td>\n",
       "      <td>2015</td>\n",
       "      <td>July</td>\n",
       "      <td>27</td>\n",
       "      <td>1</td>\n",
       "      <td>0</td>\n",
       "      <td>0</td>\n",
       "      <td>0.0</td>\n",
       "      <td>Check-Out</td>\n",
       "      <td>2015-07-01</td>\n",
       "    </tr>\n",
       "    <tr>\n",
       "      <th>1</th>\n",
       "      <td>2</td>\n",
       "      <td>Resort Hotel</td>\n",
       "      <td>0</td>\n",
       "      <td>737</td>\n",
       "      <td>2015</td>\n",
       "      <td>July</td>\n",
       "      <td>27</td>\n",
       "      <td>1</td>\n",
       "      <td>0</td>\n",
       "      <td>0</td>\n",
       "      <td>0.0</td>\n",
       "      <td>Check-Out</td>\n",
       "      <td>2015-07-01</td>\n",
       "    </tr>\n",
       "    <tr>\n",
       "      <th>2</th>\n",
       "      <td>3</td>\n",
       "      <td>Resort Hotel</td>\n",
       "      <td>0</td>\n",
       "      <td>7</td>\n",
       "      <td>2015</td>\n",
       "      <td>July</td>\n",
       "      <td>27</td>\n",
       "      <td>1</td>\n",
       "      <td>0</td>\n",
       "      <td>1</td>\n",
       "      <td>75.0</td>\n",
       "      <td>Check-Out</td>\n",
       "      <td>2015-07-02</td>\n",
       "    </tr>\n",
       "    <tr>\n",
       "      <th>3</th>\n",
       "      <td>4</td>\n",
       "      <td>Resort Hotel</td>\n",
       "      <td>0</td>\n",
       "      <td>13</td>\n",
       "      <td>2015</td>\n",
       "      <td>July</td>\n",
       "      <td>27</td>\n",
       "      <td>1</td>\n",
       "      <td>0</td>\n",
       "      <td>1</td>\n",
       "      <td>75.0</td>\n",
       "      <td>Check-Out</td>\n",
       "      <td>2015-07-02</td>\n",
       "    </tr>\n",
       "    <tr>\n",
       "      <th>4</th>\n",
       "      <td>5</td>\n",
       "      <td>Resort Hotel</td>\n",
       "      <td>0</td>\n",
       "      <td>14</td>\n",
       "      <td>2015</td>\n",
       "      <td>July</td>\n",
       "      <td>27</td>\n",
       "      <td>1</td>\n",
       "      <td>0</td>\n",
       "      <td>2</td>\n",
       "      <td>98.0</td>\n",
       "      <td>Check-Out</td>\n",
       "      <td>2015-07-03</td>\n",
       "    </tr>\n",
       "  </tbody>\n",
       "</table>\n",
       "</div>"
      ],
      "text/plain": [
       "   reservation_id         hotel  is_canceled  lead_time  arrival_date_year  \\\n",
       "0               1  Resort Hotel            0        342               2015   \n",
       "1               2  Resort Hotel            0        737               2015   \n",
       "2               3  Resort Hotel            0          7               2015   \n",
       "3               4  Resort Hotel            0         13               2015   \n",
       "4               5  Resort Hotel            0         14               2015   \n",
       "\n",
       "  arrival_date_month  arrival_date_week_number  arrival_date_day_of_month  \\\n",
       "0               July                        27                          1   \n",
       "1               July                        27                          1   \n",
       "2               July                        27                          1   \n",
       "3               July                        27                          1   \n",
       "4               July                        27                          1   \n",
       "\n",
       "   stays_in_weekend_nights  stays_in_week_nights   adr reservation_status  \\\n",
       "0                        0                     0   0.0          Check-Out   \n",
       "1                        0                     0   0.0          Check-Out   \n",
       "2                        0                     1  75.0          Check-Out   \n",
       "3                        0                     1  75.0          Check-Out   \n",
       "4                        0                     2  98.0          Check-Out   \n",
       "\n",
       "  reservation_status_date  \n",
       "0              2015-07-01  \n",
       "1              2015-07-01  \n",
       "2              2015-07-02  \n",
       "3              2015-07-02  \n",
       "4              2015-07-03  "
      ]
     },
     "execution_count": 20,
     "metadata": {},
     "output_type": "execute_result"
    }
   ],
   "source": [
    "# Get room_sales table\n",
    "room_sales = df[['reservation_id','hotel','is_canceled', 'lead_time','arrival_date_year',\n",
    "       'arrival_date_month', 'arrival_date_week_number',\n",
    "       'arrival_date_day_of_month', 'stays_in_weekend_nights',\n",
    "       'stays_in_week_nights', 'adr', 'reservation_status','reservation_status_date']]\n",
    "\n",
    "room_sales.head()"
   ]
  },
  {
   "cell_type": "code",
   "execution_count": 21,
   "id": "5d6abe55-ea8d-4fe4-93b4-42b29d385d5b",
   "metadata": {},
   "outputs": [
    {
     "data": {
      "text/html": [
       "<div>\n",
       "<style scoped>\n",
       "    .dataframe tbody tr th:only-of-type {\n",
       "        vertical-align: middle;\n",
       "    }\n",
       "\n",
       "    .dataframe tbody tr th {\n",
       "        vertical-align: top;\n",
       "    }\n",
       "\n",
       "    .dataframe thead th {\n",
       "        text-align: right;\n",
       "    }\n",
       "</style>\n",
       "<table border=\"1\" class=\"dataframe\">\n",
       "  <thead>\n",
       "    <tr style=\"text-align: right;\">\n",
       "      <th></th>\n",
       "      <th>reservation_id</th>\n",
       "      <th>adults</th>\n",
       "      <th>children</th>\n",
       "      <th>babies</th>\n",
       "      <th>meal</th>\n",
       "      <th>country</th>\n",
       "      <th>market_segment</th>\n",
       "      <th>distribution_channel</th>\n",
       "      <th>is_repeated_guest</th>\n",
       "      <th>reserved_room_type</th>\n",
       "      <th>assigned_room_type</th>\n",
       "      <th>customer_type</th>\n",
       "    </tr>\n",
       "  </thead>\n",
       "  <tbody>\n",
       "    <tr>\n",
       "      <th>0</th>\n",
       "      <td>1</td>\n",
       "      <td>2</td>\n",
       "      <td>0.0</td>\n",
       "      <td>0</td>\n",
       "      <td>BB</td>\n",
       "      <td>PRT</td>\n",
       "      <td>Direct</td>\n",
       "      <td>Direct</td>\n",
       "      <td>0</td>\n",
       "      <td>C</td>\n",
       "      <td>C</td>\n",
       "      <td>Transient</td>\n",
       "    </tr>\n",
       "    <tr>\n",
       "      <th>1</th>\n",
       "      <td>2</td>\n",
       "      <td>2</td>\n",
       "      <td>0.0</td>\n",
       "      <td>0</td>\n",
       "      <td>BB</td>\n",
       "      <td>PRT</td>\n",
       "      <td>Direct</td>\n",
       "      <td>Direct</td>\n",
       "      <td>0</td>\n",
       "      <td>C</td>\n",
       "      <td>C</td>\n",
       "      <td>Transient</td>\n",
       "    </tr>\n",
       "    <tr>\n",
       "      <th>2</th>\n",
       "      <td>3</td>\n",
       "      <td>1</td>\n",
       "      <td>0.0</td>\n",
       "      <td>0</td>\n",
       "      <td>BB</td>\n",
       "      <td>GBR</td>\n",
       "      <td>Direct</td>\n",
       "      <td>Direct</td>\n",
       "      <td>0</td>\n",
       "      <td>A</td>\n",
       "      <td>C</td>\n",
       "      <td>Transient</td>\n",
       "    </tr>\n",
       "    <tr>\n",
       "      <th>3</th>\n",
       "      <td>4</td>\n",
       "      <td>1</td>\n",
       "      <td>0.0</td>\n",
       "      <td>0</td>\n",
       "      <td>BB</td>\n",
       "      <td>GBR</td>\n",
       "      <td>Corporate</td>\n",
       "      <td>Corporate</td>\n",
       "      <td>0</td>\n",
       "      <td>A</td>\n",
       "      <td>A</td>\n",
       "      <td>Transient</td>\n",
       "    </tr>\n",
       "    <tr>\n",
       "      <th>4</th>\n",
       "      <td>5</td>\n",
       "      <td>2</td>\n",
       "      <td>0.0</td>\n",
       "      <td>0</td>\n",
       "      <td>BB</td>\n",
       "      <td>GBR</td>\n",
       "      <td>Online TA</td>\n",
       "      <td>TA/TO</td>\n",
       "      <td>0</td>\n",
       "      <td>A</td>\n",
       "      <td>A</td>\n",
       "      <td>Transient</td>\n",
       "    </tr>\n",
       "  </tbody>\n",
       "</table>\n",
       "</div>"
      ],
      "text/plain": [
       "   reservation_id  adults  children  babies meal country market_segment  \\\n",
       "0               1       2       0.0       0   BB     PRT         Direct   \n",
       "1               2       2       0.0       0   BB     PRT         Direct   \n",
       "2               3       1       0.0       0   BB     GBR         Direct   \n",
       "3               4       1       0.0       0   BB     GBR      Corporate   \n",
       "4               5       2       0.0       0   BB     GBR      Online TA   \n",
       "\n",
       "  distribution_channel  is_repeated_guest reserved_room_type  \\\n",
       "0               Direct                  0                  C   \n",
       "1               Direct                  0                  C   \n",
       "2               Direct                  0                  A   \n",
       "3            Corporate                  0                  A   \n",
       "4                TA/TO                  0                  A   \n",
       "\n",
       "  assigned_room_type customer_type  \n",
       "0                  C     Transient  \n",
       "1                  C     Transient  \n",
       "2                  C     Transient  \n",
       "3                  A     Transient  \n",
       "4                  A     Transient  "
      ]
     },
     "execution_count": 21,
     "metadata": {},
     "output_type": "execute_result"
    }
   ],
   "source": [
    "#get room_customers table\n",
    "room_customers = df[['reservation_id','adults','children','babies','meal','country', 'market_segment', 'distribution_channel', 'is_repeated_guest','reserved_room_type',\n",
    "       'assigned_room_type','customer_type']]\n",
    "\n",
    "#sanity check\n",
    "room_customers.head()"
   ]
  },
  {
   "cell_type": "markdown",
   "id": "c18db509-ea87-4553-850d-710cfbc7673a",
   "metadata": {},
   "source": [
    "#### Part 3 EDA"
   ]
  },
  {
   "cell_type": "markdown",
   "id": "93be33bd-55cd-4f22-b5d9-ef2d08ccdd23",
   "metadata": {},
   "source": [
    "##### 3.1 room_sales"
   ]
  },
  {
   "cell_type": "markdown",
   "id": "97d1cdfc-a77f-4725-a5f8-3263c7e784f1",
   "metadata": {},
   "source": [
    "`hotel`"
   ]
  },
  {
   "cell_type": "code",
   "execution_count": 22,
   "id": "b18bfbf5-80f4-4c02-a6c8-1428e42579f2",
   "metadata": {
    "tags": []
   },
   "outputs": [
    {
     "data": {
      "text/plain": [
       "City Hotel      79330\n",
       "Resort Hotel    40060\n",
       "Name: hotel, dtype: int64"
      ]
     },
     "execution_count": 22,
     "metadata": {},
     "output_type": "execute_result"
    }
   ],
   "source": [
    "room_sales['hotel'].value_counts()"
   ]
  },
  {
   "cell_type": "markdown",
   "id": "26a42f0e-edcb-4bdd-ad6d-f4b7e172d167",
   "metadata": {},
   "source": [
    "**Comment:** There are mainly two types of hotels: City Hotels and Resort Hotels. Typically, a city hotel is located within a city, while a resort hotel tends to be situated in areas with tourist attractions. Further exploration can be conducted."
   ]
  },
  {
   "cell_type": "markdown",
   "id": "18b8f348-3549-426e-968b-f927ac6b0b98",
   "metadata": {
    "tags": []
   },
   "source": [
    "`is_canceled`"
   ]
  },
  {
   "cell_type": "code",
   "execution_count": 23,
   "id": "e94a7d40-c9dd-40e2-8fea-94f5987456cf",
   "metadata": {
    "tags": []
   },
   "outputs": [
    {
     "data": {
      "text/plain": [
       "0    75166\n",
       "1    44224\n",
       "Name: is_canceled, dtype: int64"
      ]
     },
     "execution_count": 23,
     "metadata": {},
     "output_type": "execute_result"
    }
   ],
   "source": [
    "room_sales['is_canceled'].value_counts()"
   ]
  },
  {
   "cell_type": "markdown",
   "id": "40470a67-4870-4438-84d7-2f12e04ae141",
   "metadata": {},
   "source": [
    "**Comment:** Interestingly, the number of cancellations appears to be significant. "
   ]
  },
  {
   "cell_type": "markdown",
   "id": "15a278bd-5faf-4406-b5ad-c5c9607ed362",
   "metadata": {
    "tags": []
   },
   "source": [
    "`lead_time`"
   ]
  },
  {
   "cell_type": "code",
   "execution_count": 24,
   "id": "b5b39aa7-0ade-4e79-84eb-2589896f5e5c",
   "metadata": {
    "tags": []
   },
   "outputs": [
    {
     "data": {
      "text/plain": [
       "count    119390.000000\n",
       "mean        104.011416\n",
       "std         106.863097\n",
       "min           0.000000\n",
       "25%          18.000000\n",
       "50%          69.000000\n",
       "75%         160.000000\n",
       "max         737.000000\n",
       "Name: lead_time, dtype: float64"
      ]
     },
     "execution_count": 24,
     "metadata": {},
     "output_type": "execute_result"
    }
   ],
   "source": [
    "room_sales['lead_time'].describe()"
   ]
  },
  {
   "cell_type": "markdown",
   "id": "56da0ce3-6125-4fba-896f-6c97bc36606c",
   "metadata": {},
   "source": [
    "**Comment:** The minimum lead time is 0 days, while the maximum lead time is 737 days. This indicates that some people choose to book their hotel on the day they check in, while others book their hotel more than 2 years in advance. The average lead time is 104 days, which is approximately 3 months in advance."
   ]
  },
  {
   "cell_type": "markdown",
   "id": "0e8ff3ce-1a2a-425c-b125-37545afe246c",
   "metadata": {},
   "source": [
    "`arrival_date_year`,`arrival_date_month`, `arrival_date_week_number`,`arrival_date_day_of_month`"
   ]
  },
  {
   "cell_type": "code",
   "execution_count": 25,
   "id": "4229cb50-4cf6-4984-bbdd-934d03348f8a",
   "metadata": {
    "tags": []
   },
   "outputs": [
    {
     "data": {
      "text/html": [
       "<div>\n",
       "<style scoped>\n",
       "    .dataframe tbody tr th:only-of-type {\n",
       "        vertical-align: middle;\n",
       "    }\n",
       "\n",
       "    .dataframe tbody tr th {\n",
       "        vertical-align: top;\n",
       "    }\n",
       "\n",
       "    .dataframe thead th {\n",
       "        text-align: right;\n",
       "    }\n",
       "</style>\n",
       "<table border=\"1\" class=\"dataframe\">\n",
       "  <thead>\n",
       "    <tr style=\"text-align: right;\">\n",
       "      <th></th>\n",
       "      <th>arrival_date_year</th>\n",
       "      <th>arrival_date_month</th>\n",
       "      <th>arrival_date_week_number</th>\n",
       "      <th>arrival_date_day_of_month</th>\n",
       "    </tr>\n",
       "  </thead>\n",
       "  <tbody>\n",
       "    <tr>\n",
       "      <th>0</th>\n",
       "      <td>2015</td>\n",
       "      <td>July</td>\n",
       "      <td>27</td>\n",
       "      <td>1</td>\n",
       "    </tr>\n",
       "    <tr>\n",
       "      <th>1</th>\n",
       "      <td>2015</td>\n",
       "      <td>July</td>\n",
       "      <td>27</td>\n",
       "      <td>1</td>\n",
       "    </tr>\n",
       "    <tr>\n",
       "      <th>2</th>\n",
       "      <td>2015</td>\n",
       "      <td>July</td>\n",
       "      <td>27</td>\n",
       "      <td>1</td>\n",
       "    </tr>\n",
       "    <tr>\n",
       "      <th>3</th>\n",
       "      <td>2015</td>\n",
       "      <td>July</td>\n",
       "      <td>27</td>\n",
       "      <td>1</td>\n",
       "    </tr>\n",
       "    <tr>\n",
       "      <th>4</th>\n",
       "      <td>2015</td>\n",
       "      <td>July</td>\n",
       "      <td>27</td>\n",
       "      <td>1</td>\n",
       "    </tr>\n",
       "    <tr>\n",
       "      <th>...</th>\n",
       "      <td>...</td>\n",
       "      <td>...</td>\n",
       "      <td>...</td>\n",
       "      <td>...</td>\n",
       "    </tr>\n",
       "    <tr>\n",
       "      <th>119385</th>\n",
       "      <td>2017</td>\n",
       "      <td>August</td>\n",
       "      <td>35</td>\n",
       "      <td>30</td>\n",
       "    </tr>\n",
       "    <tr>\n",
       "      <th>119386</th>\n",
       "      <td>2017</td>\n",
       "      <td>August</td>\n",
       "      <td>35</td>\n",
       "      <td>31</td>\n",
       "    </tr>\n",
       "    <tr>\n",
       "      <th>119387</th>\n",
       "      <td>2017</td>\n",
       "      <td>August</td>\n",
       "      <td>35</td>\n",
       "      <td>31</td>\n",
       "    </tr>\n",
       "    <tr>\n",
       "      <th>119388</th>\n",
       "      <td>2017</td>\n",
       "      <td>August</td>\n",
       "      <td>35</td>\n",
       "      <td>31</td>\n",
       "    </tr>\n",
       "    <tr>\n",
       "      <th>119389</th>\n",
       "      <td>2017</td>\n",
       "      <td>August</td>\n",
       "      <td>35</td>\n",
       "      <td>29</td>\n",
       "    </tr>\n",
       "  </tbody>\n",
       "</table>\n",
       "<p>119390 rows × 4 columns</p>\n",
       "</div>"
      ],
      "text/plain": [
       "        arrival_date_year arrival_date_month  arrival_date_week_number  \\\n",
       "0                    2015               July                        27   \n",
       "1                    2015               July                        27   \n",
       "2                    2015               July                        27   \n",
       "3                    2015               July                        27   \n",
       "4                    2015               July                        27   \n",
       "...                   ...                ...                       ...   \n",
       "119385               2017             August                        35   \n",
       "119386               2017             August                        35   \n",
       "119387               2017             August                        35   \n",
       "119388               2017             August                        35   \n",
       "119389               2017             August                        35   \n",
       "\n",
       "        arrival_date_day_of_month  \n",
       "0                               1  \n",
       "1                               1  \n",
       "2                               1  \n",
       "3                               1  \n",
       "4                               1  \n",
       "...                           ...  \n",
       "119385                         30  \n",
       "119386                         31  \n",
       "119387                         31  \n",
       "119388                         31  \n",
       "119389                         29  \n",
       "\n",
       "[119390 rows x 4 columns]"
      ]
     },
     "execution_count": 25,
     "metadata": {},
     "output_type": "execute_result"
    }
   ],
   "source": [
    "room_sales[['arrival_date_year','arrival_date_month', 'arrival_date_week_number','arrival_date_day_of_month']]"
   ]
  },
  {
   "cell_type": "markdown",
   "id": "3268df51-0d51-40a5-b59a-688aeb99a207",
   "metadata": {},
   "source": [
    "**Comment**:In this project, these columns will be combined to generate the timestamp of the arrival date, as we will only focus on analyzing the general trend across different periods."
   ]
  },
  {
   "cell_type": "code",
   "execution_count": 26,
   "id": "eb6b2829-0c28-4984-af17-a50ce6a23f97",
   "metadata": {},
   "outputs": [
    {
     "name": "stderr",
     "output_type": "stream",
     "text": [
      "/var/folders/v2/fv31n9f13dg7wh_mnsttm03h0000gn/T/ipykernel_3566/3191038659.py:6: SettingWithCopyWarning: \n",
      "A value is trying to be set on a copy of a slice from a DataFrame.\n",
      "Try using .loc[row_indexer,col_indexer] = value instead\n",
      "\n",
      "See the caveats in the documentation: https://pandas.pydata.org/pandas-docs/stable/user_guide/indexing.html#returning-a-view-versus-a-copy\n",
      "  room_sales['arrival_date_month'] = room_sales['arrival_date_month'].map(month_mapping)\n"
     ]
    }
   ],
   "source": [
    "#map the month\n",
    "month_mapping = {\n",
    "    'January': 1, 'February': 2, 'March': 3, 'April': 4, 'May': 5, 'June': 6,\n",
    "    'July': 7, 'August': 8, 'September': 9, 'October': 10, 'November': 11, 'December': 12\n",
    "}\n",
    "\n",
    "room_sales['arrival_date_month'] = room_sales['arrival_date_month'].map(month_mapping)\n"
   ]
  },
  {
   "cell_type": "code",
   "execution_count": 27,
   "id": "eada9011-3872-4bd9-ab8f-fd10c738de0b",
   "metadata": {},
   "outputs": [
    {
     "name": "stderr",
     "output_type": "stream",
     "text": [
      "/var/folders/v2/fv31n9f13dg7wh_mnsttm03h0000gn/T/ipykernel_3566/3294596209.py:1: SettingWithCopyWarning: \n",
      "A value is trying to be set on a copy of a slice from a DataFrame.\n",
      "Try using .loc[row_indexer,col_indexer] = value instead\n",
      "\n",
      "See the caveats in the documentation: https://pandas.pydata.org/pandas-docs/stable/user_guide/indexing.html#returning-a-view-versus-a-copy\n",
      "  room_sales['arrival_date'] = pd.to_datetime({'year':room_sales['arrival_date_year'],\n"
     ]
    },
    {
     "data": {
      "text/html": [
       "<div>\n",
       "<style scoped>\n",
       "    .dataframe tbody tr th:only-of-type {\n",
       "        vertical-align: middle;\n",
       "    }\n",
       "\n",
       "    .dataframe tbody tr th {\n",
       "        vertical-align: top;\n",
       "    }\n",
       "\n",
       "    .dataframe thead th {\n",
       "        text-align: right;\n",
       "    }\n",
       "</style>\n",
       "<table border=\"1\" class=\"dataframe\">\n",
       "  <thead>\n",
       "    <tr style=\"text-align: right;\">\n",
       "      <th></th>\n",
       "      <th>reservation_id</th>\n",
       "      <th>hotel</th>\n",
       "      <th>is_canceled</th>\n",
       "      <th>lead_time</th>\n",
       "      <th>arrival_date_year</th>\n",
       "      <th>arrival_date_month</th>\n",
       "      <th>arrival_date_week_number</th>\n",
       "      <th>arrival_date_day_of_month</th>\n",
       "      <th>stays_in_weekend_nights</th>\n",
       "      <th>stays_in_week_nights</th>\n",
       "      <th>adr</th>\n",
       "      <th>reservation_status</th>\n",
       "      <th>reservation_status_date</th>\n",
       "      <th>arrival_date</th>\n",
       "    </tr>\n",
       "  </thead>\n",
       "  <tbody>\n",
       "    <tr>\n",
       "      <th>0</th>\n",
       "      <td>1</td>\n",
       "      <td>Resort Hotel</td>\n",
       "      <td>0</td>\n",
       "      <td>342</td>\n",
       "      <td>2015</td>\n",
       "      <td>7</td>\n",
       "      <td>27</td>\n",
       "      <td>1</td>\n",
       "      <td>0</td>\n",
       "      <td>0</td>\n",
       "      <td>0.0</td>\n",
       "      <td>Check-Out</td>\n",
       "      <td>2015-07-01</td>\n",
       "      <td>2015-07-01</td>\n",
       "    </tr>\n",
       "    <tr>\n",
       "      <th>1</th>\n",
       "      <td>2</td>\n",
       "      <td>Resort Hotel</td>\n",
       "      <td>0</td>\n",
       "      <td>737</td>\n",
       "      <td>2015</td>\n",
       "      <td>7</td>\n",
       "      <td>27</td>\n",
       "      <td>1</td>\n",
       "      <td>0</td>\n",
       "      <td>0</td>\n",
       "      <td>0.0</td>\n",
       "      <td>Check-Out</td>\n",
       "      <td>2015-07-01</td>\n",
       "      <td>2015-07-01</td>\n",
       "    </tr>\n",
       "    <tr>\n",
       "      <th>2</th>\n",
       "      <td>3</td>\n",
       "      <td>Resort Hotel</td>\n",
       "      <td>0</td>\n",
       "      <td>7</td>\n",
       "      <td>2015</td>\n",
       "      <td>7</td>\n",
       "      <td>27</td>\n",
       "      <td>1</td>\n",
       "      <td>0</td>\n",
       "      <td>1</td>\n",
       "      <td>75.0</td>\n",
       "      <td>Check-Out</td>\n",
       "      <td>2015-07-02</td>\n",
       "      <td>2015-07-01</td>\n",
       "    </tr>\n",
       "    <tr>\n",
       "      <th>3</th>\n",
       "      <td>4</td>\n",
       "      <td>Resort Hotel</td>\n",
       "      <td>0</td>\n",
       "      <td>13</td>\n",
       "      <td>2015</td>\n",
       "      <td>7</td>\n",
       "      <td>27</td>\n",
       "      <td>1</td>\n",
       "      <td>0</td>\n",
       "      <td>1</td>\n",
       "      <td>75.0</td>\n",
       "      <td>Check-Out</td>\n",
       "      <td>2015-07-02</td>\n",
       "      <td>2015-07-01</td>\n",
       "    </tr>\n",
       "    <tr>\n",
       "      <th>4</th>\n",
       "      <td>5</td>\n",
       "      <td>Resort Hotel</td>\n",
       "      <td>0</td>\n",
       "      <td>14</td>\n",
       "      <td>2015</td>\n",
       "      <td>7</td>\n",
       "      <td>27</td>\n",
       "      <td>1</td>\n",
       "      <td>0</td>\n",
       "      <td>2</td>\n",
       "      <td>98.0</td>\n",
       "      <td>Check-Out</td>\n",
       "      <td>2015-07-03</td>\n",
       "      <td>2015-07-01</td>\n",
       "    </tr>\n",
       "  </tbody>\n",
       "</table>\n",
       "</div>"
      ],
      "text/plain": [
       "   reservation_id         hotel  is_canceled  lead_time  arrival_date_year  \\\n",
       "0               1  Resort Hotel            0        342               2015   \n",
       "1               2  Resort Hotel            0        737               2015   \n",
       "2               3  Resort Hotel            0          7               2015   \n",
       "3               4  Resort Hotel            0         13               2015   \n",
       "4               5  Resort Hotel            0         14               2015   \n",
       "\n",
       "   arrival_date_month  arrival_date_week_number  arrival_date_day_of_month  \\\n",
       "0                   7                        27                          1   \n",
       "1                   7                        27                          1   \n",
       "2                   7                        27                          1   \n",
       "3                   7                        27                          1   \n",
       "4                   7                        27                          1   \n",
       "\n",
       "   stays_in_weekend_nights  stays_in_week_nights   adr reservation_status  \\\n",
       "0                        0                     0   0.0          Check-Out   \n",
       "1                        0                     0   0.0          Check-Out   \n",
       "2                        0                     1  75.0          Check-Out   \n",
       "3                        0                     1  75.0          Check-Out   \n",
       "4                        0                     2  98.0          Check-Out   \n",
       "\n",
       "  reservation_status_date arrival_date  \n",
       "0              2015-07-01   2015-07-01  \n",
       "1              2015-07-01   2015-07-01  \n",
       "2              2015-07-02   2015-07-01  \n",
       "3              2015-07-02   2015-07-01  \n",
       "4              2015-07-03   2015-07-01  "
      ]
     },
     "execution_count": 27,
     "metadata": {},
     "output_type": "execute_result"
    }
   ],
   "source": [
    "#create a new column arrival_date\n",
    "room_sales['arrival_date'] = pd.to_datetime({'year':room_sales['arrival_date_year'],\n",
    "                                             'month':room_sales['arrival_date_month'],\n",
    "                                             'day': room_sales['arrival_date_day_of_month']})\n",
    "room_sales.head()"
   ]
  },
  {
   "cell_type": "code",
   "execution_count": 28,
   "id": "9faffb9d-8c71-4f63-9b2b-bab7692df1a2",
   "metadata": {
    "tags": []
   },
   "outputs": [
    {
     "name": "stderr",
     "output_type": "stream",
     "text": [
      "/var/folders/v2/fv31n9f13dg7wh_mnsttm03h0000gn/T/ipykernel_3566/3134245405.py:4: SettingWithCopyWarning: \n",
      "A value is trying to be set on a copy of a slice from a DataFrame\n",
      "\n",
      "See the caveats in the documentation: https://pandas.pydata.org/pandas-docs/stable/user_guide/indexing.html#returning-a-view-versus-a-copy\n",
      "  room_sales.drop(columns=columns_to_drop, inplace=True)\n"
     ]
    },
    {
     "data": {
      "text/html": [
       "<div>\n",
       "<style scoped>\n",
       "    .dataframe tbody tr th:only-of-type {\n",
       "        vertical-align: middle;\n",
       "    }\n",
       "\n",
       "    .dataframe tbody tr th {\n",
       "        vertical-align: top;\n",
       "    }\n",
       "\n",
       "    .dataframe thead th {\n",
       "        text-align: right;\n",
       "    }\n",
       "</style>\n",
       "<table border=\"1\" class=\"dataframe\">\n",
       "  <thead>\n",
       "    <tr style=\"text-align: right;\">\n",
       "      <th></th>\n",
       "      <th>reservation_id</th>\n",
       "      <th>hotel</th>\n",
       "      <th>is_canceled</th>\n",
       "      <th>lead_time</th>\n",
       "      <th>arrival_date_week_number</th>\n",
       "      <th>stays_in_weekend_nights</th>\n",
       "      <th>stays_in_week_nights</th>\n",
       "      <th>adr</th>\n",
       "      <th>reservation_status</th>\n",
       "      <th>reservation_status_date</th>\n",
       "      <th>arrival_date</th>\n",
       "    </tr>\n",
       "  </thead>\n",
       "  <tbody>\n",
       "    <tr>\n",
       "      <th>0</th>\n",
       "      <td>1</td>\n",
       "      <td>Resort Hotel</td>\n",
       "      <td>0</td>\n",
       "      <td>342</td>\n",
       "      <td>27</td>\n",
       "      <td>0</td>\n",
       "      <td>0</td>\n",
       "      <td>0.0</td>\n",
       "      <td>Check-Out</td>\n",
       "      <td>2015-07-01</td>\n",
       "      <td>2015-07-01</td>\n",
       "    </tr>\n",
       "    <tr>\n",
       "      <th>1</th>\n",
       "      <td>2</td>\n",
       "      <td>Resort Hotel</td>\n",
       "      <td>0</td>\n",
       "      <td>737</td>\n",
       "      <td>27</td>\n",
       "      <td>0</td>\n",
       "      <td>0</td>\n",
       "      <td>0.0</td>\n",
       "      <td>Check-Out</td>\n",
       "      <td>2015-07-01</td>\n",
       "      <td>2015-07-01</td>\n",
       "    </tr>\n",
       "    <tr>\n",
       "      <th>2</th>\n",
       "      <td>3</td>\n",
       "      <td>Resort Hotel</td>\n",
       "      <td>0</td>\n",
       "      <td>7</td>\n",
       "      <td>27</td>\n",
       "      <td>0</td>\n",
       "      <td>1</td>\n",
       "      <td>75.0</td>\n",
       "      <td>Check-Out</td>\n",
       "      <td>2015-07-02</td>\n",
       "      <td>2015-07-01</td>\n",
       "    </tr>\n",
       "    <tr>\n",
       "      <th>3</th>\n",
       "      <td>4</td>\n",
       "      <td>Resort Hotel</td>\n",
       "      <td>0</td>\n",
       "      <td>13</td>\n",
       "      <td>27</td>\n",
       "      <td>0</td>\n",
       "      <td>1</td>\n",
       "      <td>75.0</td>\n",
       "      <td>Check-Out</td>\n",
       "      <td>2015-07-02</td>\n",
       "      <td>2015-07-01</td>\n",
       "    </tr>\n",
       "    <tr>\n",
       "      <th>4</th>\n",
       "      <td>5</td>\n",
       "      <td>Resort Hotel</td>\n",
       "      <td>0</td>\n",
       "      <td>14</td>\n",
       "      <td>27</td>\n",
       "      <td>0</td>\n",
       "      <td>2</td>\n",
       "      <td>98.0</td>\n",
       "      <td>Check-Out</td>\n",
       "      <td>2015-07-03</td>\n",
       "      <td>2015-07-01</td>\n",
       "    </tr>\n",
       "  </tbody>\n",
       "</table>\n",
       "</div>"
      ],
      "text/plain": [
       "   reservation_id         hotel  is_canceled  lead_time  \\\n",
       "0               1  Resort Hotel            0        342   \n",
       "1               2  Resort Hotel            0        737   \n",
       "2               3  Resort Hotel            0          7   \n",
       "3               4  Resort Hotel            0         13   \n",
       "4               5  Resort Hotel            0         14   \n",
       "\n",
       "   arrival_date_week_number  stays_in_weekend_nights  stays_in_week_nights  \\\n",
       "0                        27                        0                     0   \n",
       "1                        27                        0                     0   \n",
       "2                        27                        0                     1   \n",
       "3                        27                        0                     1   \n",
       "4                        27                        0                     2   \n",
       "\n",
       "    adr reservation_status reservation_status_date arrival_date  \n",
       "0   0.0          Check-Out              2015-07-01   2015-07-01  \n",
       "1   0.0          Check-Out              2015-07-01   2015-07-01  \n",
       "2  75.0          Check-Out              2015-07-02   2015-07-01  \n",
       "3  75.0          Check-Out              2015-07-02   2015-07-01  \n",
       "4  98.0          Check-Out              2015-07-03   2015-07-01  "
      ]
     },
     "execution_count": 28,
     "metadata": {},
     "output_type": "execute_result"
    }
   ],
   "source": [
    "#drop the columns\n",
    "columns_to_drop = ['arrival_date_year', 'arrival_date_month', 'arrival_date_day_of_month']\n",
    "\n",
    "room_sales.drop(columns=columns_to_drop, inplace=True)\n",
    "\n",
    "#Sanity Check\n",
    "room_sales.head()"
   ]
  },
  {
   "cell_type": "markdown",
   "id": "85f835df-4503-43d7-a35b-876479da370a",
   "metadata": {},
   "source": [
    "`arrival_date`"
   ]
  },
  {
   "cell_type": "code",
   "execution_count": 30,
   "id": "fe99a7f3-a824-40c8-beb5-e3f82643e0d2",
   "metadata": {
    "tags": []
   },
   "outputs": [
    {
     "name": "stderr",
     "output_type": "stream",
     "text": [
      "/var/folders/v2/fv31n9f13dg7wh_mnsttm03h0000gn/T/ipykernel_3566/2307047185.py:1: FutureWarning: Treating datetime data as categorical rather than numeric in `.describe` is deprecated and will be removed in a future version of pandas. Specify `datetime_is_numeric=True` to silence this warning and adopt the future behavior now.\n",
      "  room_sales['arrival_date'].describe()\n"
     ]
    },
    {
     "data": {
      "text/plain": [
       "count                  119390\n",
       "unique                    793\n",
       "top       2015-12-05 00:00:00\n",
       "freq                      448\n",
       "first     2015-07-01 00:00:00\n",
       "last      2017-08-31 00:00:00\n",
       "Name: arrival_date, dtype: object"
      ]
     },
     "execution_count": 30,
     "metadata": {},
     "output_type": "execute_result"
    }
   ],
   "source": [
    "room_sales['arrival_date'].describe()"
   ]
  },
  {
   "cell_type": "markdown",
   "id": "ba776d30-2979-4352-8df8-4f5d69e5c3ad",
   "metadata": {},
   "source": [
    "**Comment**: The arrival dates of reservations covered period from 2015-07-01 and 2017-08-31."
   ]
  },
  {
   "cell_type": "code",
   "execution_count": 31,
   "id": "a8be286d-ad3c-4cb4-96b9-183e2f00ef46",
   "metadata": {
    "tags": []
   },
   "outputs": [
    {
     "data": {
      "text/plain": [
       "Index(['reservation_id', 'hotel', 'is_canceled', 'lead_time',\n",
       "       'arrival_date_week_number', 'stays_in_weekend_nights',\n",
       "       'stays_in_week_nights', 'adr', 'reservation_status',\n",
       "       'reservation_status_date', 'arrival_date'],\n",
       "      dtype='object')"
      ]
     },
     "execution_count": 31,
     "metadata": {},
     "output_type": "execute_result"
    }
   ],
   "source": [
    "room_sales.columns"
   ]
  },
  {
   "cell_type": "markdown",
   "id": "61a29409-8643-40d3-b1fd-2bfe4425c3d5",
   "metadata": {},
   "source": [
    "`stay_in_weekend_nights`,`stats_in_week_nights`"
   ]
  },
  {
   "cell_type": "markdown",
   "id": "14bd67b2-d717-40ac-a67d-3c9c2207261b",
   "metadata": {},
   "source": [
    "We can get a total_stay_in_nights by summing these two columns"
   ]
  },
  {
   "cell_type": "code",
   "execution_count": 32,
   "id": "c2ddee99-e247-4248-91e6-62e00a87b2f8",
   "metadata": {
    "tags": []
   },
   "outputs": [
    {
     "name": "stderr",
     "output_type": "stream",
     "text": [
      "/var/folders/v2/fv31n9f13dg7wh_mnsttm03h0000gn/T/ipykernel_3566/450202365.py:1: SettingWithCopyWarning: \n",
      "A value is trying to be set on a copy of a slice from a DataFrame.\n",
      "Try using .loc[row_indexer,col_indexer] = value instead\n",
      "\n",
      "See the caveats in the documentation: https://pandas.pydata.org/pandas-docs/stable/user_guide/indexing.html#returning-a-view-versus-a-copy\n",
      "  room_sales['total_stay_in_nights'] = room_sales['stays_in_weekend_nights'] + room_sales['stays_in_week_nights']\n"
     ]
    },
    {
     "data": {
      "text/html": [
       "<div>\n",
       "<style scoped>\n",
       "    .dataframe tbody tr th:only-of-type {\n",
       "        vertical-align: middle;\n",
       "    }\n",
       "\n",
       "    .dataframe tbody tr th {\n",
       "        vertical-align: top;\n",
       "    }\n",
       "\n",
       "    .dataframe thead th {\n",
       "        text-align: right;\n",
       "    }\n",
       "</style>\n",
       "<table border=\"1\" class=\"dataframe\">\n",
       "  <thead>\n",
       "    <tr style=\"text-align: right;\">\n",
       "      <th></th>\n",
       "      <th>reservation_id</th>\n",
       "      <th>hotel</th>\n",
       "      <th>is_canceled</th>\n",
       "      <th>lead_time</th>\n",
       "      <th>arrival_date_week_number</th>\n",
       "      <th>stays_in_weekend_nights</th>\n",
       "      <th>stays_in_week_nights</th>\n",
       "      <th>adr</th>\n",
       "      <th>reservation_status</th>\n",
       "      <th>reservation_status_date</th>\n",
       "      <th>arrival_date</th>\n",
       "      <th>total_stay_in_nights</th>\n",
       "    </tr>\n",
       "  </thead>\n",
       "  <tbody>\n",
       "    <tr>\n",
       "      <th>0</th>\n",
       "      <td>1</td>\n",
       "      <td>Resort Hotel</td>\n",
       "      <td>0</td>\n",
       "      <td>342</td>\n",
       "      <td>27</td>\n",
       "      <td>0</td>\n",
       "      <td>0</td>\n",
       "      <td>0.0</td>\n",
       "      <td>Check-Out</td>\n",
       "      <td>2015-07-01</td>\n",
       "      <td>2015-07-01</td>\n",
       "      <td>0</td>\n",
       "    </tr>\n",
       "    <tr>\n",
       "      <th>1</th>\n",
       "      <td>2</td>\n",
       "      <td>Resort Hotel</td>\n",
       "      <td>0</td>\n",
       "      <td>737</td>\n",
       "      <td>27</td>\n",
       "      <td>0</td>\n",
       "      <td>0</td>\n",
       "      <td>0.0</td>\n",
       "      <td>Check-Out</td>\n",
       "      <td>2015-07-01</td>\n",
       "      <td>2015-07-01</td>\n",
       "      <td>0</td>\n",
       "    </tr>\n",
       "    <tr>\n",
       "      <th>2</th>\n",
       "      <td>3</td>\n",
       "      <td>Resort Hotel</td>\n",
       "      <td>0</td>\n",
       "      <td>7</td>\n",
       "      <td>27</td>\n",
       "      <td>0</td>\n",
       "      <td>1</td>\n",
       "      <td>75.0</td>\n",
       "      <td>Check-Out</td>\n",
       "      <td>2015-07-02</td>\n",
       "      <td>2015-07-01</td>\n",
       "      <td>1</td>\n",
       "    </tr>\n",
       "    <tr>\n",
       "      <th>3</th>\n",
       "      <td>4</td>\n",
       "      <td>Resort Hotel</td>\n",
       "      <td>0</td>\n",
       "      <td>13</td>\n",
       "      <td>27</td>\n",
       "      <td>0</td>\n",
       "      <td>1</td>\n",
       "      <td>75.0</td>\n",
       "      <td>Check-Out</td>\n",
       "      <td>2015-07-02</td>\n",
       "      <td>2015-07-01</td>\n",
       "      <td>1</td>\n",
       "    </tr>\n",
       "    <tr>\n",
       "      <th>4</th>\n",
       "      <td>5</td>\n",
       "      <td>Resort Hotel</td>\n",
       "      <td>0</td>\n",
       "      <td>14</td>\n",
       "      <td>27</td>\n",
       "      <td>0</td>\n",
       "      <td>2</td>\n",
       "      <td>98.0</td>\n",
       "      <td>Check-Out</td>\n",
       "      <td>2015-07-03</td>\n",
       "      <td>2015-07-01</td>\n",
       "      <td>2</td>\n",
       "    </tr>\n",
       "  </tbody>\n",
       "</table>\n",
       "</div>"
      ],
      "text/plain": [
       "   reservation_id         hotel  is_canceled  lead_time  \\\n",
       "0               1  Resort Hotel            0        342   \n",
       "1               2  Resort Hotel            0        737   \n",
       "2               3  Resort Hotel            0          7   \n",
       "3               4  Resort Hotel            0         13   \n",
       "4               5  Resort Hotel            0         14   \n",
       "\n",
       "   arrival_date_week_number  stays_in_weekend_nights  stays_in_week_nights  \\\n",
       "0                        27                        0                     0   \n",
       "1                        27                        0                     0   \n",
       "2                        27                        0                     1   \n",
       "3                        27                        0                     1   \n",
       "4                        27                        0                     2   \n",
       "\n",
       "    adr reservation_status reservation_status_date arrival_date  \\\n",
       "0   0.0          Check-Out              2015-07-01   2015-07-01   \n",
       "1   0.0          Check-Out              2015-07-01   2015-07-01   \n",
       "2  75.0          Check-Out              2015-07-02   2015-07-01   \n",
       "3  75.0          Check-Out              2015-07-02   2015-07-01   \n",
       "4  98.0          Check-Out              2015-07-03   2015-07-01   \n",
       "\n",
       "   total_stay_in_nights  \n",
       "0                     0  \n",
       "1                     0  \n",
       "2                     1  \n",
       "3                     1  \n",
       "4                     2  "
      ]
     },
     "execution_count": 32,
     "metadata": {},
     "output_type": "execute_result"
    }
   ],
   "source": [
    "room_sales['total_stay_in_nights'] = room_sales['stays_in_weekend_nights'] + room_sales['stays_in_week_nights']\n",
    "\n",
    "room_sales.head()"
   ]
  },
  {
   "cell_type": "code",
   "execution_count": 34,
   "id": "627166c2-acf5-48a6-aab0-5bd3310cdf81",
   "metadata": {
    "tags": []
   },
   "outputs": [
    {
     "data": {
      "text/plain": [
       "count    119390.000000\n",
       "mean          3.427900\n",
       "std           2.557439\n",
       "min           0.000000\n",
       "25%           2.000000\n",
       "50%           3.000000\n",
       "75%           4.000000\n",
       "max          69.000000\n",
       "Name: total_stay_in_nights, dtype: float64"
      ]
     },
     "execution_count": 34,
     "metadata": {},
     "output_type": "execute_result"
    }
   ],
   "source": [
    "room_sales['total_stay_in_nights'].describe()"
   ]
  },
  {
   "cell_type": "markdown",
   "id": "c14ac33b-1824-48d9-84c3-8eb62afce673",
   "metadata": {},
   "source": [
    "**Comment**:The shortest duration of stay is recorded as 0 days, whereas the longest stay spans 69 days. On average, guests typically stay for approximately 4 days."
   ]
  },
  {
   "cell_type": "markdown",
   "id": "c9ffe1b0-57d2-4b49-a265-c5f9ff3734c5",
   "metadata": {},
   "source": [
    "`adr`"
   ]
  },
  {
   "cell_type": "code",
   "execution_count": 40,
   "id": "dc56d8e0-efe0-4072-99e0-c3bf4445ba84",
   "metadata": {
    "tags": []
   },
   "outputs": [
    {
     "data": {
      "text/plain": [
       "count    119390.000000\n",
       "mean        101.831122\n",
       "std          50.535790\n",
       "min          -6.380000\n",
       "25%          69.290000\n",
       "50%          94.575000\n",
       "75%         126.000000\n",
       "max        5400.000000\n",
       "Name: adr, dtype: float64"
      ]
     },
     "execution_count": 40,
     "metadata": {},
     "output_type": "execute_result"
    }
   ],
   "source": [
    "room_sales['adr'].describe()"
   ]
  },
  {
   "cell_type": "markdown",
   "id": "80146d31-8cb6-4b8c-ac30-813ea24ceb50",
   "metadata": {},
   "source": [
    "**Comment**:The average of adr (averate daily rate) is about 102. "
   ]
  },
  {
   "cell_type": "markdown",
   "id": "4ce06a1f-032c-4261-8063-75ec6091b9f4",
   "metadata": {},
   "source": [
    "`reservation_status`"
   ]
  },
  {
   "cell_type": "code",
   "execution_count": 35,
   "id": "c9528f75-8c43-4c82-8961-3a767618eed8",
   "metadata": {
    "tags": []
   },
   "outputs": [
    {
     "data": {
      "text/plain": [
       "Check-Out    75166\n",
       "Canceled     43017\n",
       "No-Show       1207\n",
       "Name: reservation_status, dtype: int64"
      ]
     },
     "execution_count": 35,
     "metadata": {},
     "output_type": "execute_result"
    }
   ],
   "source": [
    "room_sales['reservation_status'].value_counts()"
   ]
  },
  {
   "cell_type": "markdown",
   "id": "c0c9025e-e2eb-4fce-842d-4a141bf944b0",
   "metadata": {},
   "source": [
    "**Comment**: We can see almost 1/3 of guests cancelled their reservations and there are 1207 of no-show, which also indicates that the min of total_stay_in_nights is 0. "
   ]
  },
  {
   "cell_type": "markdown",
   "id": "2e35f8ed-8d6c-4700-bd13-078d2cf06bb2",
   "metadata": {},
   "source": [
    "`reservation_status_date`"
   ]
  },
  {
   "cell_type": "code",
   "execution_count": 39,
   "id": "cf5ae277-067a-45bd-9815-42acaf59dcb3",
   "metadata": {
    "tags": []
   },
   "outputs": [
    {
     "name": "stderr",
     "output_type": "stream",
     "text": [
      "/var/folders/v2/fv31n9f13dg7wh_mnsttm03h0000gn/T/ipykernel_3566/2051893762.py:2: SettingWithCopyWarning: \n",
      "A value is trying to be set on a copy of a slice from a DataFrame.\n",
      "Try using .loc[row_indexer,col_indexer] = value instead\n",
      "\n",
      "See the caveats in the documentation: https://pandas.pydata.org/pandas-docs/stable/user_guide/indexing.html#returning-a-view-versus-a-copy\n",
      "  room_sales['reservation_status_date'] = pd.to_datetime(room_sales['reservation_status_date'])\n",
      "/var/folders/v2/fv31n9f13dg7wh_mnsttm03h0000gn/T/ipykernel_3566/2051893762.py:4: FutureWarning: Treating datetime data as categorical rather than numeric in `.describe` is deprecated and will be removed in a future version of pandas. Specify `datetime_is_numeric=True` to silence this warning and adopt the future behavior now.\n",
      "  room_sales['reservation_status_date'].describe()\n"
     ]
    },
    {
     "data": {
      "text/plain": [
       "count                  119390\n",
       "unique                    926\n",
       "top       2015-10-21 00:00:00\n",
       "freq                     1461\n",
       "first     2014-10-17 00:00:00\n",
       "last      2017-09-14 00:00:00\n",
       "Name: reservation_status_date, dtype: object"
      ]
     },
     "execution_count": 39,
     "metadata": {},
     "output_type": "execute_result"
    }
   ],
   "source": [
    "#change the column to timestamp \n",
    "room_sales['reservation_status_date'] = pd.to_datetime(room_sales['reservation_status_date'])\n",
    "\n",
    "room_sales['reservation_status_date'].describe()"
   ]
  },
  {
   "cell_type": "markdown",
   "id": "412dca80-f892-4bfc-bde1-34274b0989eb",
   "metadata": {},
   "source": [
    "**Comment**: The reservation_status_date is the check-out date on reservation, however many reservations were canceled so the starting date of 2014-10-17 is much earlier than the starting date of the arrival_date. We can take a glance to confirm. "
   ]
  },
  {
   "cell_type": "code",
   "execution_count": 46,
   "id": "c31e0e09-8164-4dab-9f26-b64ac8598160",
   "metadata": {
    "tags": []
   },
   "outputs": [
    {
     "data": {
      "text/html": [
       "<div>\n",
       "<style scoped>\n",
       "    .dataframe tbody tr th:only-of-type {\n",
       "        vertical-align: middle;\n",
       "    }\n",
       "\n",
       "    .dataframe tbody tr th {\n",
       "        vertical-align: top;\n",
       "    }\n",
       "\n",
       "    .dataframe thead th {\n",
       "        text-align: right;\n",
       "    }\n",
       "</style>\n",
       "<table border=\"1\" class=\"dataframe\">\n",
       "  <thead>\n",
       "    <tr style=\"text-align: right;\">\n",
       "      <th></th>\n",
       "      <th>reservation_id</th>\n",
       "      <th>hotel</th>\n",
       "      <th>is_canceled</th>\n",
       "      <th>lead_time</th>\n",
       "      <th>arrival_date_week_number</th>\n",
       "      <th>stays_in_weekend_nights</th>\n",
       "      <th>stays_in_week_nights</th>\n",
       "      <th>adr</th>\n",
       "      <th>reservation_status</th>\n",
       "      <th>reservation_status_date</th>\n",
       "      <th>arrival_date</th>\n",
       "      <th>total_stay_in_nights</th>\n",
       "    </tr>\n",
       "  </thead>\n",
       "  <tbody>\n",
       "    <tr>\n",
       "      <th>1545</th>\n",
       "      <td>1546</td>\n",
       "      <td>Resort Hotel</td>\n",
       "      <td>1</td>\n",
       "      <td>297</td>\n",
       "      <td>36</td>\n",
       "      <td>1</td>\n",
       "      <td>3</td>\n",
       "      <td>0.0</td>\n",
       "      <td>Canceled</td>\n",
       "      <td>2014-11-18</td>\n",
       "      <td>2015-09-03</td>\n",
       "      <td>4</td>\n",
       "    </tr>\n",
       "    <tr>\n",
       "      <th>73714</th>\n",
       "      <td>73715</td>\n",
       "      <td>City Hotel</td>\n",
       "      <td>1</td>\n",
       "      <td>265</td>\n",
       "      <td>28</td>\n",
       "      <td>0</td>\n",
       "      <td>2</td>\n",
       "      <td>62.8</td>\n",
       "      <td>Canceled</td>\n",
       "      <td>2014-10-17</td>\n",
       "      <td>2015-07-09</td>\n",
       "      <td>2</td>\n",
       "    </tr>\n",
       "    <tr>\n",
       "      <th>73715</th>\n",
       "      <td>73716</td>\n",
       "      <td>City Hotel</td>\n",
       "      <td>1</td>\n",
       "      <td>258</td>\n",
       "      <td>27</td>\n",
       "      <td>0</td>\n",
       "      <td>2</td>\n",
       "      <td>62.8</td>\n",
       "      <td>Canceled</td>\n",
       "      <td>2014-10-17</td>\n",
       "      <td>2015-07-02</td>\n",
       "      <td>2</td>\n",
       "    </tr>\n",
       "    <tr>\n",
       "      <th>73716</th>\n",
       "      <td>73717</td>\n",
       "      <td>City Hotel</td>\n",
       "      <td>1</td>\n",
       "      <td>258</td>\n",
       "      <td>27</td>\n",
       "      <td>0</td>\n",
       "      <td>2</td>\n",
       "      <td>62.8</td>\n",
       "      <td>Canceled</td>\n",
       "      <td>2014-10-17</td>\n",
       "      <td>2015-07-02</td>\n",
       "      <td>2</td>\n",
       "    </tr>\n",
       "    <tr>\n",
       "      <th>73717</th>\n",
       "      <td>73718</td>\n",
       "      <td>City Hotel</td>\n",
       "      <td>1</td>\n",
       "      <td>258</td>\n",
       "      <td>27</td>\n",
       "      <td>0</td>\n",
       "      <td>2</td>\n",
       "      <td>62.8</td>\n",
       "      <td>Canceled</td>\n",
       "      <td>2014-10-17</td>\n",
       "      <td>2015-07-02</td>\n",
       "      <td>2</td>\n",
       "    </tr>\n",
       "  </tbody>\n",
       "</table>\n",
       "</div>"
      ],
      "text/plain": [
       "       reservation_id         hotel  is_canceled  lead_time  \\\n",
       "1545             1546  Resort Hotel            1        297   \n",
       "73714           73715    City Hotel            1        265   \n",
       "73715           73716    City Hotel            1        258   \n",
       "73716           73717    City Hotel            1        258   \n",
       "73717           73718    City Hotel            1        258   \n",
       "\n",
       "       arrival_date_week_number  stays_in_weekend_nights  \\\n",
       "1545                         36                        1   \n",
       "73714                        28                        0   \n",
       "73715                        27                        0   \n",
       "73716                        27                        0   \n",
       "73717                        27                        0   \n",
       "\n",
       "       stays_in_week_nights   adr reservation_status reservation_status_date  \\\n",
       "1545                      3   0.0           Canceled              2014-11-18   \n",
       "73714                     2  62.8           Canceled              2014-10-17   \n",
       "73715                     2  62.8           Canceled              2014-10-17   \n",
       "73716                     2  62.8           Canceled              2014-10-17   \n",
       "73717                     2  62.8           Canceled              2014-10-17   \n",
       "\n",
       "      arrival_date  total_stay_in_nights  \n",
       "1545    2015-09-03                     4  \n",
       "73714   2015-07-09                     2  \n",
       "73715   2015-07-02                     2  \n",
       "73716   2015-07-02                     2  \n",
       "73717   2015-07-02                     2  "
      ]
     },
     "execution_count": 46,
     "metadata": {},
     "output_type": "execute_result"
    }
   ],
   "source": [
    "room_sales[room_sales['reservation_status_date']<'2015-01-01'].head()"
   ]
  },
  {
   "cell_type": "markdown",
   "id": "c1e41322-cba8-472c-9c44-b8850f568040",
   "metadata": {
    "tags": []
   },
   "source": [
    "**Comment**: We can see the reservation_status was 'Cancelled', which double confirms our previous guessing."
   ]
  },
  {
   "cell_type": "markdown",
   "id": "579ddddc-29f1-46c8-9f4e-ddc4e7c51c6f",
   "metadata": {
    "tags": []
   },
   "source": [
    "`room_revenue`"
   ]
  },
  {
   "cell_type": "markdown",
   "id": "2680d55e-02fe-4f7a-a1b0-bf4b5e654926",
   "metadata": {},
   "source": [
    "Lastly, we need a new column of room_revenue, which is calculated by multiplying the adr with the total_stay_in_nights. This column helps us know the profitability of the whole hotel group. "
   ]
  },
  {
   "cell_type": "code",
   "execution_count": 49,
   "id": "ad791915-af93-486a-befb-7757b1b4d33a",
   "metadata": {
    "tags": []
   },
   "outputs": [
    {
     "name": "stderr",
     "output_type": "stream",
     "text": [
      "/var/folders/v2/fv31n9f13dg7wh_mnsttm03h0000gn/T/ipykernel_3566/4053570076.py:1: SettingWithCopyWarning: \n",
      "A value is trying to be set on a copy of a slice from a DataFrame.\n",
      "Try using .loc[row_indexer,col_indexer] = value instead\n",
      "\n",
      "See the caveats in the documentation: https://pandas.pydata.org/pandas-docs/stable/user_guide/indexing.html#returning-a-view-versus-a-copy\n",
      "  room_sales['room_revenue'] = room_sales['adr']*room_sales['total_stay_in_nights']\n"
     ]
    },
    {
     "data": {
      "text/html": [
       "<div>\n",
       "<style scoped>\n",
       "    .dataframe tbody tr th:only-of-type {\n",
       "        vertical-align: middle;\n",
       "    }\n",
       "\n",
       "    .dataframe tbody tr th {\n",
       "        vertical-align: top;\n",
       "    }\n",
       "\n",
       "    .dataframe thead th {\n",
       "        text-align: right;\n",
       "    }\n",
       "</style>\n",
       "<table border=\"1\" class=\"dataframe\">\n",
       "  <thead>\n",
       "    <tr style=\"text-align: right;\">\n",
       "      <th></th>\n",
       "      <th>reservation_id</th>\n",
       "      <th>hotel</th>\n",
       "      <th>is_canceled</th>\n",
       "      <th>lead_time</th>\n",
       "      <th>arrival_date_week_number</th>\n",
       "      <th>stays_in_weekend_nights</th>\n",
       "      <th>stays_in_week_nights</th>\n",
       "      <th>adr</th>\n",
       "      <th>reservation_status</th>\n",
       "      <th>reservation_status_date</th>\n",
       "      <th>arrival_date</th>\n",
       "      <th>total_stay_in_nights</th>\n",
       "      <th>room_revenue</th>\n",
       "    </tr>\n",
       "  </thead>\n",
       "  <tbody>\n",
       "    <tr>\n",
       "      <th>0</th>\n",
       "      <td>1</td>\n",
       "      <td>Resort Hotel</td>\n",
       "      <td>0</td>\n",
       "      <td>342</td>\n",
       "      <td>27</td>\n",
       "      <td>0</td>\n",
       "      <td>0</td>\n",
       "      <td>0.0</td>\n",
       "      <td>Check-Out</td>\n",
       "      <td>2015-07-01</td>\n",
       "      <td>2015-07-01</td>\n",
       "      <td>0</td>\n",
       "      <td>0.0</td>\n",
       "    </tr>\n",
       "    <tr>\n",
       "      <th>1</th>\n",
       "      <td>2</td>\n",
       "      <td>Resort Hotel</td>\n",
       "      <td>0</td>\n",
       "      <td>737</td>\n",
       "      <td>27</td>\n",
       "      <td>0</td>\n",
       "      <td>0</td>\n",
       "      <td>0.0</td>\n",
       "      <td>Check-Out</td>\n",
       "      <td>2015-07-01</td>\n",
       "      <td>2015-07-01</td>\n",
       "      <td>0</td>\n",
       "      <td>0.0</td>\n",
       "    </tr>\n",
       "    <tr>\n",
       "      <th>2</th>\n",
       "      <td>3</td>\n",
       "      <td>Resort Hotel</td>\n",
       "      <td>0</td>\n",
       "      <td>7</td>\n",
       "      <td>27</td>\n",
       "      <td>0</td>\n",
       "      <td>1</td>\n",
       "      <td>75.0</td>\n",
       "      <td>Check-Out</td>\n",
       "      <td>2015-07-02</td>\n",
       "      <td>2015-07-01</td>\n",
       "      <td>1</td>\n",
       "      <td>75.0</td>\n",
       "    </tr>\n",
       "    <tr>\n",
       "      <th>3</th>\n",
       "      <td>4</td>\n",
       "      <td>Resort Hotel</td>\n",
       "      <td>0</td>\n",
       "      <td>13</td>\n",
       "      <td>27</td>\n",
       "      <td>0</td>\n",
       "      <td>1</td>\n",
       "      <td>75.0</td>\n",
       "      <td>Check-Out</td>\n",
       "      <td>2015-07-02</td>\n",
       "      <td>2015-07-01</td>\n",
       "      <td>1</td>\n",
       "      <td>75.0</td>\n",
       "    </tr>\n",
       "    <tr>\n",
       "      <th>4</th>\n",
       "      <td>5</td>\n",
       "      <td>Resort Hotel</td>\n",
       "      <td>0</td>\n",
       "      <td>14</td>\n",
       "      <td>27</td>\n",
       "      <td>0</td>\n",
       "      <td>2</td>\n",
       "      <td>98.0</td>\n",
       "      <td>Check-Out</td>\n",
       "      <td>2015-07-03</td>\n",
       "      <td>2015-07-01</td>\n",
       "      <td>2</td>\n",
       "      <td>196.0</td>\n",
       "    </tr>\n",
       "  </tbody>\n",
       "</table>\n",
       "</div>"
      ],
      "text/plain": [
       "   reservation_id         hotel  is_canceled  lead_time  \\\n",
       "0               1  Resort Hotel            0        342   \n",
       "1               2  Resort Hotel            0        737   \n",
       "2               3  Resort Hotel            0          7   \n",
       "3               4  Resort Hotel            0         13   \n",
       "4               5  Resort Hotel            0         14   \n",
       "\n",
       "   arrival_date_week_number  stays_in_weekend_nights  stays_in_week_nights  \\\n",
       "0                        27                        0                     0   \n",
       "1                        27                        0                     0   \n",
       "2                        27                        0                     1   \n",
       "3                        27                        0                     1   \n",
       "4                        27                        0                     2   \n",
       "\n",
       "    adr reservation_status reservation_status_date arrival_date  \\\n",
       "0   0.0          Check-Out              2015-07-01   2015-07-01   \n",
       "1   0.0          Check-Out              2015-07-01   2015-07-01   \n",
       "2  75.0          Check-Out              2015-07-02   2015-07-01   \n",
       "3  75.0          Check-Out              2015-07-02   2015-07-01   \n",
       "4  98.0          Check-Out              2015-07-03   2015-07-01   \n",
       "\n",
       "   total_stay_in_nights  room_revenue  \n",
       "0                     0           0.0  \n",
       "1                     0           0.0  \n",
       "2                     1          75.0  \n",
       "3                     1          75.0  \n",
       "4                     2         196.0  "
      ]
     },
     "execution_count": 49,
     "metadata": {},
     "output_type": "execute_result"
    }
   ],
   "source": [
    "room_sales['room_revenue'] = room_sales['adr']*room_sales['total_stay_in_nights']\n",
    "room_sales.head()"
   ]
  },
  {
   "cell_type": "code",
   "execution_count": 50,
   "id": "12029aa8-ebd3-414f-a907-d60ef017e449",
   "metadata": {
    "tags": []
   },
   "outputs": [
    {
     "name": "stdout",
     "output_type": "stream",
     "text": [
      "<class 'pandas.core.frame.DataFrame'>\n",
      "RangeIndex: 119390 entries, 0 to 119389\n",
      "Data columns (total 13 columns):\n",
      " #   Column                    Non-Null Count   Dtype         \n",
      "---  ------                    --------------   -----         \n",
      " 0   reservation_id            119390 non-null  int64         \n",
      " 1   hotel                     119390 non-null  object        \n",
      " 2   is_canceled               119390 non-null  int64         \n",
      " 3   lead_time                 119390 non-null  int64         \n",
      " 4   arrival_date_week_number  119390 non-null  int64         \n",
      " 5   stays_in_weekend_nights   119390 non-null  int64         \n",
      " 6   stays_in_week_nights      119390 non-null  int64         \n",
      " 7   adr                       119390 non-null  float64       \n",
      " 8   reservation_status        119390 non-null  object        \n",
      " 9   reservation_status_date   119390 non-null  datetime64[ns]\n",
      " 10  arrival_date              119390 non-null  datetime64[ns]\n",
      " 11  total_stay_in_nights      119390 non-null  int64         \n",
      " 12  room_revenue              119390 non-null  float64       \n",
      "dtypes: datetime64[ns](2), float64(2), int64(7), object(2)\n",
      "memory usage: 11.8+ MB\n"
     ]
    }
   ],
   "source": [
    "#Final Sanity Check\n",
    "room_sales.info()"
   ]
  },
  {
   "cell_type": "markdown",
   "id": "32da909f-798f-4ab9-a6b8-a781103cf6f1",
   "metadata": {},
   "source": [
    "**Comment**: The room_sales table has been well processed and ready to export for our further visualization analysis. "
   ]
  },
  {
   "cell_type": "code",
   "execution_count": 66,
   "id": "c1349eee-7f70-4770-a478-9f5423fe17fd",
   "metadata": {
    "tags": []
   },
   "outputs": [],
   "source": [
    "# Export the DataFrame to a CSV file\n",
    "room_sales.to_csv('/Users/kouyuyang/Documents/Projects/Kaggle Projects/Hotel Demand Prediction/split tables for BI/room_sales.csv', index=False)"
   ]
  },
  {
   "cell_type": "markdown",
   "id": "705ab5c9-dd64-42ef-a3d8-595c3de8d004",
   "metadata": {},
   "source": [
    "#### 3.2 room_customers"
   ]
  },
  {
   "cell_type": "code",
   "execution_count": 51,
   "id": "6cccc207-ce79-42d6-a171-52ebeeda1507",
   "metadata": {
    "tags": []
   },
   "outputs": [
    {
     "name": "stdout",
     "output_type": "stream",
     "text": [
      "<class 'pandas.core.frame.DataFrame'>\n",
      "RangeIndex: 119390 entries, 0 to 119389\n",
      "Data columns (total 12 columns):\n",
      " #   Column                Non-Null Count   Dtype  \n",
      "---  ------                --------------   -----  \n",
      " 0   reservation_id        119390 non-null  int64  \n",
      " 1   adults                119390 non-null  int64  \n",
      " 2   children              119390 non-null  float64\n",
      " 3   babies                119390 non-null  int64  \n",
      " 4   meal                  119390 non-null  object \n",
      " 5   country               119390 non-null  object \n",
      " 6   market_segment        119390 non-null  object \n",
      " 7   distribution_channel  119390 non-null  object \n",
      " 8   is_repeated_guest     119390 non-null  int64  \n",
      " 9   reserved_room_type    119390 non-null  object \n",
      " 10  assigned_room_type    119390 non-null  object \n",
      " 11  customer_type         119390 non-null  object \n",
      "dtypes: float64(1), int64(4), object(7)\n",
      "memory usage: 10.9+ MB\n"
     ]
    }
   ],
   "source": [
    "room_customers.info()"
   ]
  },
  {
   "cell_type": "markdown",
   "id": "a6e35238-b4e8-4eef-9daa-6705df69a8f9",
   "metadata": {},
   "source": [
    "`adults`,`children`,`babies`"
   ]
  },
  {
   "cell_type": "code",
   "execution_count": 56,
   "id": "d9558f2f-44dd-4d0d-8511-6c51da34c779",
   "metadata": {
    "tags": []
   },
   "outputs": [
    {
     "data": {
      "text/html": [
       "<div>\n",
       "<style scoped>\n",
       "    .dataframe tbody tr th:only-of-type {\n",
       "        vertical-align: middle;\n",
       "    }\n",
       "\n",
       "    .dataframe tbody tr th {\n",
       "        vertical-align: top;\n",
       "    }\n",
       "\n",
       "    .dataframe thead th {\n",
       "        text-align: right;\n",
       "    }\n",
       "</style>\n",
       "<table border=\"1\" class=\"dataframe\">\n",
       "  <thead>\n",
       "    <tr style=\"text-align: right;\">\n",
       "      <th></th>\n",
       "      <th>adults</th>\n",
       "      <th>children</th>\n",
       "      <th>babies</th>\n",
       "    </tr>\n",
       "  </thead>\n",
       "  <tbody>\n",
       "    <tr>\n",
       "      <th>count</th>\n",
       "      <td>119390.000000</td>\n",
       "      <td>119390.000000</td>\n",
       "      <td>119390.000000</td>\n",
       "    </tr>\n",
       "    <tr>\n",
       "      <th>mean</th>\n",
       "      <td>1.856403</td>\n",
       "      <td>0.103886</td>\n",
       "      <td>0.007949</td>\n",
       "    </tr>\n",
       "    <tr>\n",
       "      <th>std</th>\n",
       "      <td>0.579261</td>\n",
       "      <td>0.398555</td>\n",
       "      <td>0.097436</td>\n",
       "    </tr>\n",
       "    <tr>\n",
       "      <th>min</th>\n",
       "      <td>0.000000</td>\n",
       "      <td>0.000000</td>\n",
       "      <td>0.000000</td>\n",
       "    </tr>\n",
       "    <tr>\n",
       "      <th>25%</th>\n",
       "      <td>2.000000</td>\n",
       "      <td>0.000000</td>\n",
       "      <td>0.000000</td>\n",
       "    </tr>\n",
       "    <tr>\n",
       "      <th>50%</th>\n",
       "      <td>2.000000</td>\n",
       "      <td>0.000000</td>\n",
       "      <td>0.000000</td>\n",
       "    </tr>\n",
       "    <tr>\n",
       "      <th>75%</th>\n",
       "      <td>2.000000</td>\n",
       "      <td>0.000000</td>\n",
       "      <td>0.000000</td>\n",
       "    </tr>\n",
       "    <tr>\n",
       "      <th>max</th>\n",
       "      <td>55.000000</td>\n",
       "      <td>10.000000</td>\n",
       "      <td>10.000000</td>\n",
       "    </tr>\n",
       "  </tbody>\n",
       "</table>\n",
       "</div>"
      ],
      "text/plain": [
       "              adults       children         babies\n",
       "count  119390.000000  119390.000000  119390.000000\n",
       "mean        1.856403       0.103886       0.007949\n",
       "std         0.579261       0.398555       0.097436\n",
       "min         0.000000       0.000000       0.000000\n",
       "25%         2.000000       0.000000       0.000000\n",
       "50%         2.000000       0.000000       0.000000\n",
       "75%         2.000000       0.000000       0.000000\n",
       "max        55.000000      10.000000      10.000000"
      ]
     },
     "execution_count": 56,
     "metadata": {},
     "output_type": "execute_result"
    }
   ],
   "source": [
    "room_customers[['adults','children','babies']].describe()"
   ]
  },
  {
   "cell_type": "markdown",
   "id": "8a8e58f2-78b0-4795-adb7-8fee0bab7a29",
   "metadata": {},
   "source": [
    "**Comment**: The maximum adults is 55 people, which could be a group party. "
   ]
  },
  {
   "cell_type": "markdown",
   "id": "1c9fa0c6-dbea-4fb0-8cc2-679a7356e6cb",
   "metadata": {},
   "source": [
    "`meal`"
   ]
  },
  {
   "cell_type": "code",
   "execution_count": 57,
   "id": "03bd9d20-d0ae-40f8-a71d-46ccb01f0c35",
   "metadata": {
    "tags": []
   },
   "outputs": [
    {
     "data": {
      "text/plain": [
       "BB           92310\n",
       "HB           14463\n",
       "SC           10650\n",
       "Undefined     1169\n",
       "FB             798\n",
       "Name: meal, dtype: int64"
      ]
     },
     "execution_count": 57,
     "metadata": {},
     "output_type": "execute_result"
    }
   ],
   "source": [
    "room_customers['meal'].value_counts()"
   ]
  },
  {
   "cell_type": "markdown",
   "id": "0b28e91b-d1fd-43cc-940d-30a4777d7b12",
   "metadata": {},
   "source": [
    "**Comment**: The most popular type of meal is BB, which is short for bed and breakfast."
   ]
  },
  {
   "cell_type": "markdown",
   "id": "b8d61b67-6d7d-47a4-9f5b-60bfaf46722c",
   "metadata": {
    "tags": []
   },
   "source": [
    "`market_segment`"
   ]
  },
  {
   "cell_type": "code",
   "execution_count": 59,
   "id": "fa5f3b66-2f88-47b6-927f-1afcee3e317c",
   "metadata": {
    "tags": []
   },
   "outputs": [
    {
     "data": {
      "text/plain": [
       "Online TA        56477\n",
       "Offline TA/TO    24219\n",
       "Groups           19811\n",
       "Direct           12606\n",
       "Corporate         5295\n",
       "Complementary      743\n",
       "Aviation           237\n",
       "Undefined            2\n",
       "Name: market_segment, dtype: int64"
      ]
     },
     "execution_count": 59,
     "metadata": {},
     "output_type": "execute_result"
    }
   ],
   "source": [
    "room_customers['market_segment'].value_counts()"
   ]
  },
  {
   "cell_type": "markdown",
   "id": "9be83f8b-8d44-473c-8bb5-8690b0e043e6",
   "metadata": {},
   "source": [
    "**Comment**: We can see the hotel has diversified tyeps of market segments, among which the majority of customers come from online TA. "
   ]
  },
  {
   "cell_type": "markdown",
   "id": "7158a014-13d6-492a-9509-26164b606748",
   "metadata": {},
   "source": [
    "`distribution_channel`"
   ]
  },
  {
   "cell_type": "code",
   "execution_count": 60,
   "id": "05daec78-3e3f-405d-88ba-0d1622eef616",
   "metadata": {
    "tags": []
   },
   "outputs": [
    {
     "data": {
      "text/plain": [
       "TA/TO        97870\n",
       "Direct       14645\n",
       "Corporate     6677\n",
       "GDS            193\n",
       "Undefined        5\n",
       "Name: distribution_channel, dtype: int64"
      ]
     },
     "execution_count": 60,
     "metadata": {},
     "output_type": "execute_result"
    }
   ],
   "source": [
    "room_customers['distribution_channel'].value_counts()"
   ]
  },
  {
   "cell_type": "markdown",
   "id": "6b5a84f2-e1eb-4329-b271-792ddc70edbc",
   "metadata": {},
   "source": [
    "**Comment**: Similar to the market_segments, travel agency and tour operator is the main channel. "
   ]
  },
  {
   "cell_type": "markdown",
   "id": "2f49ba03-8726-4e16-9294-f63a6369d69d",
   "metadata": {},
   "source": [
    "`customer_type`"
   ]
  },
  {
   "cell_type": "code",
   "execution_count": 61,
   "id": "16ad3612-4481-4c6b-bcac-451c6daa10db",
   "metadata": {
    "tags": []
   },
   "outputs": [
    {
     "data": {
      "text/plain": [
       "Transient          89613\n",
       "Transient-Party    25124\n",
       "Contract            4076\n",
       "Group                577\n",
       "Name: customer_type, dtype: int64"
      ]
     },
     "execution_count": 61,
     "metadata": {},
     "output_type": "execute_result"
    }
   ],
   "source": [
    "room_customers['customer_type'].value_counts()"
   ]
  },
  {
   "cell_type": "markdown",
   "id": "717268a6-49d0-4578-afb6-4538fe2da2b8",
   "metadata": {},
   "source": [
    "**Comment**: Most room_customers are transients or transiet-party."
   ]
  },
  {
   "cell_type": "markdown",
   "id": "36379af8-7964-431a-9eeb-ccff4353ba85",
   "metadata": {},
   "source": [
    "`is_repeated_guest`"
   ]
  },
  {
   "cell_type": "code",
   "execution_count": 62,
   "id": "2180404d-872d-4097-a044-558169c274dc",
   "metadata": {
    "tags": []
   },
   "outputs": [
    {
     "data": {
      "text/plain": [
       "0    115580\n",
       "1      3810\n",
       "Name: is_repeated_guest, dtype: int64"
      ]
     },
     "execution_count": 62,
     "metadata": {},
     "output_type": "execute_result"
    }
   ],
   "source": [
    "room_customers['is_repeated_guest'].value_counts()"
   ]
  },
  {
   "cell_type": "markdown",
   "id": "14ccb235-949d-460f-b863-7a92e9abed13",
   "metadata": {},
   "source": [
    "**Comment**:Only 3810 are repeated guests. This may encourage the hotel to promote their loyal program to bring more repeated customers back. "
   ]
  },
  {
   "cell_type": "markdown",
   "id": "f77afd08-6a12-4d53-b238-8200ecfffb5b",
   "metadata": {},
   "source": [
    "`total_guests`"
   ]
  },
  {
   "cell_type": "markdown",
   "id": "ad70058b-0127-4593-8032-00f634cd1a50",
   "metadata": {},
   "source": [
    "We need a new column of total_guests, which sums all guests of a reservation, including the children and babies. "
   ]
  },
  {
   "cell_type": "code",
   "execution_count": 63,
   "id": "3cc7f570-92a0-47da-9912-3721fb016336",
   "metadata": {
    "tags": []
   },
   "outputs": [
    {
     "name": "stderr",
     "output_type": "stream",
     "text": [
      "/var/folders/v2/fv31n9f13dg7wh_mnsttm03h0000gn/T/ipykernel_3566/447859946.py:1: SettingWithCopyWarning: \n",
      "A value is trying to be set on a copy of a slice from a DataFrame.\n",
      "Try using .loc[row_indexer,col_indexer] = value instead\n",
      "\n",
      "See the caveats in the documentation: https://pandas.pydata.org/pandas-docs/stable/user_guide/indexing.html#returning-a-view-versus-a-copy\n",
      "  room_customers['total_guests'] = room_customers['adults']+room_customers['children']+room_customers['babies']\n",
      "/var/folders/v2/fv31n9f13dg7wh_mnsttm03h0000gn/T/ipykernel_3566/447859946.py:2: SettingWithCopyWarning: \n",
      "A value is trying to be set on a copy of a slice from a DataFrame.\n",
      "Try using .loc[row_indexer,col_indexer] = value instead\n",
      "\n",
      "See the caveats in the documentation: https://pandas.pydata.org/pandas-docs/stable/user_guide/indexing.html#returning-a-view-versus-a-copy\n",
      "  room_customers['total_guests'] = room_customers['total_guests'].astype(int)\n"
     ]
    },
    {
     "data": {
      "text/html": [
       "<div>\n",
       "<style scoped>\n",
       "    .dataframe tbody tr th:only-of-type {\n",
       "        vertical-align: middle;\n",
       "    }\n",
       "\n",
       "    .dataframe tbody tr th {\n",
       "        vertical-align: top;\n",
       "    }\n",
       "\n",
       "    .dataframe thead th {\n",
       "        text-align: right;\n",
       "    }\n",
       "</style>\n",
       "<table border=\"1\" class=\"dataframe\">\n",
       "  <thead>\n",
       "    <tr style=\"text-align: right;\">\n",
       "      <th></th>\n",
       "      <th>reservation_id</th>\n",
       "      <th>adults</th>\n",
       "      <th>children</th>\n",
       "      <th>babies</th>\n",
       "      <th>meal</th>\n",
       "      <th>country</th>\n",
       "      <th>market_segment</th>\n",
       "      <th>distribution_channel</th>\n",
       "      <th>is_repeated_guest</th>\n",
       "      <th>reserved_room_type</th>\n",
       "      <th>assigned_room_type</th>\n",
       "      <th>customer_type</th>\n",
       "      <th>total_guests</th>\n",
       "    </tr>\n",
       "  </thead>\n",
       "  <tbody>\n",
       "    <tr>\n",
       "      <th>0</th>\n",
       "      <td>1</td>\n",
       "      <td>2</td>\n",
       "      <td>0.0</td>\n",
       "      <td>0</td>\n",
       "      <td>BB</td>\n",
       "      <td>PRT</td>\n",
       "      <td>Direct</td>\n",
       "      <td>Direct</td>\n",
       "      <td>0</td>\n",
       "      <td>C</td>\n",
       "      <td>C</td>\n",
       "      <td>Transient</td>\n",
       "      <td>2</td>\n",
       "    </tr>\n",
       "    <tr>\n",
       "      <th>1</th>\n",
       "      <td>2</td>\n",
       "      <td>2</td>\n",
       "      <td>0.0</td>\n",
       "      <td>0</td>\n",
       "      <td>BB</td>\n",
       "      <td>PRT</td>\n",
       "      <td>Direct</td>\n",
       "      <td>Direct</td>\n",
       "      <td>0</td>\n",
       "      <td>C</td>\n",
       "      <td>C</td>\n",
       "      <td>Transient</td>\n",
       "      <td>2</td>\n",
       "    </tr>\n",
       "    <tr>\n",
       "      <th>2</th>\n",
       "      <td>3</td>\n",
       "      <td>1</td>\n",
       "      <td>0.0</td>\n",
       "      <td>0</td>\n",
       "      <td>BB</td>\n",
       "      <td>GBR</td>\n",
       "      <td>Direct</td>\n",
       "      <td>Direct</td>\n",
       "      <td>0</td>\n",
       "      <td>A</td>\n",
       "      <td>C</td>\n",
       "      <td>Transient</td>\n",
       "      <td>1</td>\n",
       "    </tr>\n",
       "    <tr>\n",
       "      <th>3</th>\n",
       "      <td>4</td>\n",
       "      <td>1</td>\n",
       "      <td>0.0</td>\n",
       "      <td>0</td>\n",
       "      <td>BB</td>\n",
       "      <td>GBR</td>\n",
       "      <td>Corporate</td>\n",
       "      <td>Corporate</td>\n",
       "      <td>0</td>\n",
       "      <td>A</td>\n",
       "      <td>A</td>\n",
       "      <td>Transient</td>\n",
       "      <td>1</td>\n",
       "    </tr>\n",
       "    <tr>\n",
       "      <th>4</th>\n",
       "      <td>5</td>\n",
       "      <td>2</td>\n",
       "      <td>0.0</td>\n",
       "      <td>0</td>\n",
       "      <td>BB</td>\n",
       "      <td>GBR</td>\n",
       "      <td>Online TA</td>\n",
       "      <td>TA/TO</td>\n",
       "      <td>0</td>\n",
       "      <td>A</td>\n",
       "      <td>A</td>\n",
       "      <td>Transient</td>\n",
       "      <td>2</td>\n",
       "    </tr>\n",
       "  </tbody>\n",
       "</table>\n",
       "</div>"
      ],
      "text/plain": [
       "   reservation_id  adults  children  babies meal country market_segment  \\\n",
       "0               1       2       0.0       0   BB     PRT         Direct   \n",
       "1               2       2       0.0       0   BB     PRT         Direct   \n",
       "2               3       1       0.0       0   BB     GBR         Direct   \n",
       "3               4       1       0.0       0   BB     GBR      Corporate   \n",
       "4               5       2       0.0       0   BB     GBR      Online TA   \n",
       "\n",
       "  distribution_channel  is_repeated_guest reserved_room_type  \\\n",
       "0               Direct                  0                  C   \n",
       "1               Direct                  0                  C   \n",
       "2               Direct                  0                  A   \n",
       "3            Corporate                  0                  A   \n",
       "4                TA/TO                  0                  A   \n",
       "\n",
       "  assigned_room_type customer_type  total_guests  \n",
       "0                  C     Transient             2  \n",
       "1                  C     Transient             2  \n",
       "2                  C     Transient             1  \n",
       "3                  A     Transient             1  \n",
       "4                  A     Transient             2  "
      ]
     },
     "execution_count": 63,
     "metadata": {},
     "output_type": "execute_result"
    }
   ],
   "source": [
    "room_customers['total_guests'] = room_customers['adults']+room_customers['children']+room_customers['babies']\n",
    "room_customers['total_guests'] = room_customers['total_guests'].astype(int)\n",
    "room_customers.head()"
   ]
  },
  {
   "cell_type": "code",
   "execution_count": 64,
   "id": "9c4775ec-d886-48b4-a867-f6c58507cff8",
   "metadata": {
    "tags": []
   },
   "outputs": [
    {
     "name": "stdout",
     "output_type": "stream",
     "text": [
      "<class 'pandas.core.frame.DataFrame'>\n",
      "RangeIndex: 119390 entries, 0 to 119389\n",
      "Data columns (total 13 columns):\n",
      " #   Column                Non-Null Count   Dtype  \n",
      "---  ------                --------------   -----  \n",
      " 0   reservation_id        119390 non-null  int64  \n",
      " 1   adults                119390 non-null  int64  \n",
      " 2   children              119390 non-null  float64\n",
      " 3   babies                119390 non-null  int64  \n",
      " 4   meal                  119390 non-null  object \n",
      " 5   country               119390 non-null  object \n",
      " 6   market_segment        119390 non-null  object \n",
      " 7   distribution_channel  119390 non-null  object \n",
      " 8   is_repeated_guest     119390 non-null  int64  \n",
      " 9   reserved_room_type    119390 non-null  object \n",
      " 10  assigned_room_type    119390 non-null  object \n",
      " 11  customer_type         119390 non-null  object \n",
      " 12  total_guests          119390 non-null  int64  \n",
      "dtypes: float64(1), int64(5), object(7)\n",
      "memory usage: 11.8+ MB\n"
     ]
    }
   ],
   "source": [
    "#Sanity Check\n",
    "room_customers.info()"
   ]
  },
  {
   "cell_type": "markdown",
   "id": "cb83da34-4d54-43c8-b893-3f4fd2b7d839",
   "metadata": {},
   "source": [
    "Now, room_customers has been cleaned and ready for further analysis. "
   ]
  },
  {
   "cell_type": "code",
   "execution_count": 65,
   "id": "898e6201-cac0-458d-b157-0305a18a8038",
   "metadata": {
    "tags": []
   },
   "outputs": [],
   "source": [
    "# Export the DataFrame to a CSV file\n",
    "room_customers.to_csv('/Users/kouyuyang/Documents/Projects/Kaggle Projects/Hotel Demand Prediction/split tables for BI/room_customers.csv', index=False)"
   ]
  }
 ],
 "metadata": {
  "kernelspec": {
   "display_name": "Python 3 (ipykernel)",
   "language": "python",
   "name": "python3"
  },
  "language_info": {
   "codemirror_mode": {
    "name": "ipython",
    "version": 3
   },
   "file_extension": ".py",
   "mimetype": "text/x-python",
   "name": "python",
   "nbconvert_exporter": "python",
   "pygments_lexer": "ipython3",
   "version": "3.11.4"
  }
 },
 "nbformat": 4,
 "nbformat_minor": 5
}
